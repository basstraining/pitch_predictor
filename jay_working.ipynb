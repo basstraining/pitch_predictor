{
 "cells": [
  {
   "cell_type": "code",
   "execution_count": 10,
   "metadata": {},
   "outputs": [],
   "source": [
    "from pybaseball import statcast_pitcher\n",
    "from pybaseball import playerid_lookup\n",
    "import pandas as pd\n",
    "import numpy as np\n"
   ]
  },
  {
   "cell_type": "code",
   "execution_count": 15,
   "metadata": {},
   "outputs": [
    {
     "ename": "ValueError",
     "evalue": "Player ID is required. If you need to find a player's id, try pybaseball.playerid_lookup(last_name, first_name) and use their key_mlbam. If you want statcast data for all players, try the statcast() function.",
     "output_type": "error",
     "traceback": [
      "\u001b[0;31m---------------------------------------------------------------------------\u001b[0m",
      "\u001b[0;31mValueError\u001b[0m                                Traceback (most recent call last)",
      "\u001b[0;32m<ipython-input-15-58c363cca413>\u001b[0m in \u001b[0;36m<module>\u001b[0;34m\u001b[0m\n\u001b[0;32m----> 1\u001b[0;31m \u001b[0mpitchers\u001b[0m \u001b[0;34m=\u001b[0m \u001b[0mstatcast_pitcher\u001b[0m\u001b[0;34m(\u001b[0m\u001b[0;34m'2023-04-01'\u001b[0m\u001b[0;34m,\u001b[0m \u001b[0;34m'2023-09-30'\u001b[0m\u001b[0;34m)\u001b[0m\u001b[0;34m\u001b[0m\u001b[0;34m\u001b[0m\u001b[0m\n\u001b[0m",
      "\u001b[0;32m~/Desktop/Flatiron/pitch_predictor/pybaseball/statcast_pitcher.py\u001b[0m in \u001b[0;36mstatcast_pitcher\u001b[0;34m(start_dt, end_dt, player_id)\u001b[0m\n\u001b[1;32m     20\u001b[0m         \u001b[0mfinding\u001b[0m \u001b[0mthe\u001b[0m \u001b[0mcorrect\u001b[0m \u001b[0mplayer\u001b[0m\u001b[0;34m,\u001b[0m \u001b[0;32mand\u001b[0m \u001b[0mselecting\u001b[0m \u001b[0mtheir\u001b[0m \u001b[0mkey_mlbam\u001b[0m\u001b[0;34m.\u001b[0m\u001b[0;34m\u001b[0m\u001b[0;34m\u001b[0m\u001b[0m\n\u001b[1;32m     21\u001b[0m     \"\"\"\n\u001b[0;32m---> 22\u001b[0;31m     \u001b[0msanitize_input\u001b[0m\u001b[0;34m(\u001b[0m\u001b[0mstart_dt\u001b[0m\u001b[0;34m,\u001b[0m \u001b[0mend_dt\u001b[0m\u001b[0;34m,\u001b[0m \u001b[0mplayer_id\u001b[0m\u001b[0;34m)\u001b[0m\u001b[0;34m\u001b[0m\u001b[0;34m\u001b[0m\u001b[0m\n\u001b[0m\u001b[1;32m     23\u001b[0m \u001b[0;34m\u001b[0m\u001b[0m\n\u001b[1;32m     24\u001b[0m     \u001b[0;31m# sanitize_input will guarantee these are not None\u001b[0m\u001b[0;34m\u001b[0m\u001b[0;34m\u001b[0m\u001b[0;34m\u001b[0m\u001b[0m\n",
      "\u001b[0;32m~/Desktop/Flatiron/pitch_predictor/pybaseball/utils.py\u001b[0m in \u001b[0;36msanitize_input\u001b[0;34m(start_dt, end_dt, player_id)\u001b[0m\n\u001b[1;32m    262\u001b[0m         \u001b[0;31m# error if no player ID provided\u001b[0m\u001b[0;34m\u001b[0m\u001b[0;34m\u001b[0m\u001b[0;34m\u001b[0m\u001b[0m\n\u001b[1;32m    263\u001b[0m         \u001b[0;32mif\u001b[0m \u001b[0mplayer_id\u001b[0m \u001b[0;32mis\u001b[0m \u001b[0;32mNone\u001b[0m\u001b[0;34m:\u001b[0m\u001b[0;34m\u001b[0m\u001b[0;34m\u001b[0m\u001b[0m\n\u001b[0;32m--> 264\u001b[0;31m \t\traise ValueError(\n\u001b[0m\u001b[1;32m    265\u001b[0m                         \u001b[0;34m\"Player ID is required. If you need to find a player's id, try \"\u001b[0m\u001b[0;34m\u001b[0m\u001b[0;34m\u001b[0m\u001b[0m\n\u001b[1;32m    266\u001b[0m                         \u001b[0;34m\"pybaseball.playerid_lookup(last_name, first_name) and use their key_mlbam. \"\u001b[0m\u001b[0;34m\u001b[0m\u001b[0;34m\u001b[0m\u001b[0m\n",
      "\u001b[0;31mValueError\u001b[0m: Player ID is required. If you need to find a player's id, try pybaseball.playerid_lookup(last_name, first_name) and use their key_mlbam. If you want statcast data for all players, try the statcast() function."
     ]
    }
   ],
   "source": [
    "pitchers = statcast_pitcher('2023-04-01', '2023-09-30')"
   ]
  },
  {
   "cell_type": "code",
   "execution_count": 20,
   "metadata": {},
   "outputs": [],
   "source": [
    "selected_pitchers = ['Webb',\n",
    " 'Gallen',\n",
    " 'Cole',\n",
    " 'Mikolas',\n",
    " 'Bassitt',\n",
    " 'Valdez',\n",
    " 'Castillo',\n",
    " 'Keller',\n",
    " 'Lopez',\n",
    " 'Nola',\n",
    " 'Burnes',\n",
    " 'Wheeler',\n",
    " 'Gibson',\n",
    " 'Gilbert',\n",
    " 'Kirby',\n",
    " 'Berrios',\n",
    " 'Montgomery',\n",
    " 'Strider',\n",
    " 'Gausman',\n",
    " 'Alcantara',\n",
    " 'Giolito',\n",
    " 'Gray',\n",
    " 'Lynn',\n",
    " 'Snell',\n",
    " 'Corbin',\n",
    " 'Luzardo',\n",
    " 'Oviedo',\n",
    " 'Lyles',\n",
    " 'Eflin',\n",
    " 'Kelly',\n",
    " 'Cease',\n",
    " 'Elder',\n",
    " 'Steele',\n",
    " 'Walker',\n",
    " 'Kremer',\n",
    " 'Dunning',\n",
    " 'Sears',\n",
    " 'Bradish',\n",
    " 'Kikuchi',\n",
    " 'Senga',\n",
    " 'Peralta',\n",
    " 'Morton',\n",
    " 'Verlander']"
   ]
  },
  {
   "cell_type": "code",
   "execution_count": 26,
   "metadata": {},
   "outputs": [
    {
     "ename": "ValueError",
     "evalue": "The truth value of a Series is ambiguous. Use a.empty, a.bool(), a.item(), a.any() or a.all().",
     "output_type": "error",
     "traceback": [
      "\u001b[0;31m---------------------------------------------------------------------------\u001b[0m",
      "\u001b[0;31mValueError\u001b[0m                                Traceback (most recent call last)",
      "\u001b[0;32m<ipython-input-26-f8220badcc0a>\u001b[0m in \u001b[0;36m<module>\u001b[0;34m\u001b[0m\n\u001b[1;32m     13\u001b[0m \u001b[0;34m\u001b[0m\u001b[0m\n\u001b[1;32m     14\u001b[0m     \u001b[0;31m# Pull Statcast data for the pitcher\u001b[0m\u001b[0;34m\u001b[0m\u001b[0;34m\u001b[0m\u001b[0;34m\u001b[0m\u001b[0m\n\u001b[0;32m---> 15\u001b[0;31m     \u001b[0mpitcher_stats\u001b[0m \u001b[0;34m=\u001b[0m \u001b[0mstatcast_pitcher\u001b[0m\u001b[0;34m(\u001b[0m\u001b[0;34m'2023-04-01'\u001b[0m\u001b[0;34m,\u001b[0m \u001b[0;34m'2023-09-30'\u001b[0m\u001b[0;34m,\u001b[0m \u001b[0mplayer_id\u001b[0m\u001b[0;34m=\u001b[0m\u001b[0mplayer_id\u001b[0m \u001b[0;34m)\u001b[0m  \u001b[0;31m# Adjust start_dt and end_dt as needed\u001b[0m\u001b[0;34m\u001b[0m\u001b[0;34m\u001b[0m\u001b[0m\n\u001b[0m\u001b[1;32m     16\u001b[0m \u001b[0;34m\u001b[0m\u001b[0m\n\u001b[1;32m     17\u001b[0m     \u001b[0;31m# Append the pitcher's data to the list\u001b[0m\u001b[0;34m\u001b[0m\u001b[0;34m\u001b[0m\u001b[0;34m\u001b[0m\u001b[0m\n",
      "\u001b[0;32m~/Desktop/Flatiron/pitch_predictor/pybaseball/statcast_pitcher.py\u001b[0m in \u001b[0;36mstatcast_pitcher\u001b[0;34m(start_dt, end_dt, player_id)\u001b[0m\n\u001b[1;32m     25\u001b[0m     \u001b[0;32massert\u001b[0m \u001b[0mstart_dt\u001b[0m\u001b[0;34m\u001b[0m\u001b[0;34m\u001b[0m\u001b[0m\n\u001b[1;32m     26\u001b[0m     \u001b[0;32massert\u001b[0m \u001b[0mend_dt\u001b[0m\u001b[0;34m\u001b[0m\u001b[0;34m\u001b[0m\u001b[0m\n\u001b[0;32m---> 27\u001b[0;31m     \u001b[0;32massert\u001b[0m \u001b[0mplayer_id\u001b[0m\u001b[0;34m\u001b[0m\u001b[0;34m\u001b[0m\u001b[0m\n\u001b[0m\u001b[1;32m     28\u001b[0m \u001b[0;34m\u001b[0m\u001b[0m\n\u001b[1;32m     29\u001b[0m     \u001b[0murl\u001b[0m \u001b[0;34m=\u001b[0m \u001b[0;34m'https://baseballsavant.mlb.com/statcast_search/csv?all=true&hfPT=&hfAB=&hfBBT=&hfPR=&hfZ=&stadium=&hfBBL=&hfNewZones=&hfGT=R%7CPO%7CS%7C=&hfSea=&hfSit=&player_type=pitcher&hfOuts=&opponent=&pitcher_throws=&batter_stands=&hfSA=&game_date_gt={}&game_date_lt={}&pitchers_lookup%5B%5D={}&team=&position=&hfRO=&home_road=&hfFlag=&metric_1=&hfInn=&min_pitches=0&min_results=0&group_by=name&sort_col=pitches&player_event_sort=h_launch_speed&sort_order=desc&min_abs=0&type=details&'\u001b[0m\u001b[0;34m\u001b[0m\u001b[0;34m\u001b[0m\u001b[0m\n",
      "\u001b[0;32m~/anaconda3/envs/learn-env/lib/python3.8/site-packages/pandas/core/generic.py\u001b[0m in \u001b[0;36m__nonzero__\u001b[0;34m(self)\u001b[0m\n\u001b[1;32m   1327\u001b[0m \u001b[0;34m\u001b[0m\u001b[0m\n\u001b[1;32m   1328\u001b[0m     \u001b[0;32mdef\u001b[0m \u001b[0m__nonzero__\u001b[0m\u001b[0;34m(\u001b[0m\u001b[0mself\u001b[0m\u001b[0;34m)\u001b[0m\u001b[0;34m:\u001b[0m\u001b[0;34m\u001b[0m\u001b[0;34m\u001b[0m\u001b[0m\n\u001b[0;32m-> 1329\u001b[0;31m         raise ValueError(\n\u001b[0m\u001b[1;32m   1330\u001b[0m             \u001b[0;34mf\"The truth value of a {type(self).__name__} is ambiguous. \"\u001b[0m\u001b[0;34m\u001b[0m\u001b[0;34m\u001b[0m\u001b[0m\n\u001b[1;32m   1331\u001b[0m             \u001b[0;34m\"Use a.empty, a.bool(), a.item(), a.any() or a.all().\"\u001b[0m\u001b[0;34m\u001b[0m\u001b[0;34m\u001b[0m\u001b[0m\n",
      "\u001b[0;31mValueError\u001b[0m: The truth value of a Series is ambiguous. Use a.empty, a.bool(), a.item(), a.any() or a.all()."
     ]
    }
   ],
   "source": [
    "# Create a dataframe with the pitcher names\n",
    "pitchers_df = pd.DataFrame({'name_last': selected_pitchers})\n",
    "\n",
    "# Create an empty list to store the data for each pitcher\n",
    "pitcher_data = []\n",
    "\n",
    "# Iterate through each pitcher in the dataframe\n",
    "for index, row in pitchers_df.iterrows():\n",
    "    name_last = row['name_last']\n",
    "\n",
    "    # Assume first names are not needed for player ID lookup\n",
    "    player_id = playerid_lookup(name_last)['key_mlbam']\n",
    "\n",
    "    # Pull Statcast data for the pitcher\n",
    "    pitcher_stats = statcast_pitcher('2023-04-01', '2023-09-30', player_id=player_id )  # Adjust start_dt and end_dt as needed\n",
    "\n",
    "    # Append the pitcher's data to the list\n",
    "    pitcher_data.append(pitcher_stats)\n",
    "\n",
    "# Combine the data for all pitchers into a single dataframe\n",
    "all_pitcher_data = pd.concat(pitcher_data, ignore_index=True)\n",
    "\n",
    "# Print the dataframe or perform further analysis\n",
    "all_pitcher_data"
   ]
  },
  {
   "cell_type": "code",
   "execution_count": null,
   "metadata": {},
   "outputs": [],
   "source": [
    "for first, last in zip(list1, list2):\n",
    "    full_name = f\"{first} {last}\"\n",
    "    concatenated_names.append(full_name)"
   ]
  }
 ],
 "metadata": {
  "kernelspec": {
   "display_name": "Python (learn-env)",
   "language": "python",
   "name": "learn-env"
  },
  "language_info": {
   "codemirror_mode": {
    "name": "ipython",
    "version": 3
   },
   "file_extension": ".py",
   "mimetype": "text/x-python",
   "name": "python",
   "nbconvert_exporter": "python",
   "pygments_lexer": "ipython3",
   "version": "3.8.5"
  }
 },
 "nbformat": 4,
 "nbformat_minor": 4
}

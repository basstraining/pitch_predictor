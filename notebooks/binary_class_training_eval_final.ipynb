{
 "cells": [
  {
   "cell_type": "code",
   "execution_count": 1,
   "metadata": {},
   "outputs": [],
   "source": [
    "import pandas as pd\n",
    "import numpy as np\n",
    "\n",
    "from sklearn.datasets import make_classification\n",
    "from sklearn.linear_model import LogisticRegression\n",
    "from sklearn.model_selection import train_test_split\n",
    "from sklearn.pipeline import Pipeline\n",
    "from sklearn.preprocessing import StandardScaler\n",
    "from sklearn.preprocessing import OneHotEncoder\n",
    "from sklearn.model_selection import cross_val_score\n",
    "from sklearn.tree import DecisionTreeClassifier"
   ]
  },
  {
   "cell_type": "markdown",
   "metadata": {},
   "source": [
    "### Read .csv file from data cleaning notebook"
   ]
  },
  {
   "cell_type": "code",
   "execution_count": 2,
   "metadata": {},
   "outputs": [],
   "source": [
    "df = pd.read_csv('../data/comb_clean_pitcher.csv', index_col=False)"
   ]
  },
  {
   "cell_type": "code",
   "execution_count": 3,
   "metadata": {},
   "outputs": [
    {
     "data": {
      "text/html": [
       "<div>\n",
       "<style scoped>\n",
       "    .dataframe tbody tr th:only-of-type {\n",
       "        vertical-align: middle;\n",
       "    }\n",
       "\n",
       "    .dataframe tbody tr th {\n",
       "        vertical-align: top;\n",
       "    }\n",
       "\n",
       "    .dataframe thead th {\n",
       "        text-align: right;\n",
       "    }\n",
       "</style>\n",
       "<table border=\"1\" class=\"dataframe\">\n",
       "  <thead>\n",
       "    <tr style=\"text-align: right;\">\n",
       "      <th></th>\n",
       "      <th>player_name</th>\n",
       "      <th>pitcher</th>\n",
       "      <th>batter</th>\n",
       "      <th>stand</th>\n",
       "      <th>pitch_type</th>\n",
       "      <th>pitch_number</th>\n",
       "      <th>outs_when_up</th>\n",
       "      <th>times_faced</th>\n",
       "      <th>XBH</th>\n",
       "      <th>large_score_dif</th>\n",
       "      <th>recent_pitch</th>\n",
       "      <th>second_recent_pitch</th>\n",
       "      <th>third_recent_pitch</th>\n",
       "      <th>pitch_count</th>\n",
       "    </tr>\n",
       "  </thead>\n",
       "  <tbody>\n",
       "    <tr>\n",
       "      <th>0</th>\n",
       "      <td>Rodriguez, Grayson</td>\n",
       "      <td>680570</td>\n",
       "      <td>543760</td>\n",
       "      <td>R</td>\n",
       "      <td>FB</td>\n",
       "      <td>4</td>\n",
       "      <td>0</td>\n",
       "      <td>1</td>\n",
       "      <td>0</td>\n",
       "      <td>0</td>\n",
       "      <td>14.0 - SL - ball</td>\n",
       "      <td>2.0 - FB - foul</td>\n",
       "      <td>14.0 - FB - ball</td>\n",
       "      <td>2-1</td>\n",
       "    </tr>\n",
       "    <tr>\n",
       "      <th>1</th>\n",
       "      <td>Rodriguez, Grayson</td>\n",
       "      <td>680570</td>\n",
       "      <td>543760</td>\n",
       "      <td>R</td>\n",
       "      <td>SL</td>\n",
       "      <td>5</td>\n",
       "      <td>0</td>\n",
       "      <td>1</td>\n",
       "      <td>0</td>\n",
       "      <td>0</td>\n",
       "      <td>9.0 - FB - called</td>\n",
       "      <td>14.0 - SL - ball</td>\n",
       "      <td>2.0 - FB - foul</td>\n",
       "      <td>2-2</td>\n",
       "    </tr>\n",
       "    <tr>\n",
       "      <th>2</th>\n",
       "      <td>Rodriguez, Grayson</td>\n",
       "      <td>680570</td>\n",
       "      <td>543760</td>\n",
       "      <td>R</td>\n",
       "      <td>FB</td>\n",
       "      <td>6</td>\n",
       "      <td>0</td>\n",
       "      <td>1</td>\n",
       "      <td>0</td>\n",
       "      <td>0</td>\n",
       "      <td>14.0 - SL - ball</td>\n",
       "      <td>9.0 - FB - called</td>\n",
       "      <td>14.0 - SL - ball</td>\n",
       "      <td>3-2</td>\n",
       "    </tr>\n",
       "    <tr>\n",
       "      <th>3</th>\n",
       "      <td>Rodriguez, Grayson</td>\n",
       "      <td>680570</td>\n",
       "      <td>608369</td>\n",
       "      <td>L</td>\n",
       "      <td>FB</td>\n",
       "      <td>4</td>\n",
       "      <td>0</td>\n",
       "      <td>1</td>\n",
       "      <td>0</td>\n",
       "      <td>0</td>\n",
       "      <td>14.0 - CH - ball</td>\n",
       "      <td>14.0 - CH - ball</td>\n",
       "      <td>4.0 - FB - called</td>\n",
       "      <td>2-1</td>\n",
       "    </tr>\n",
       "    <tr>\n",
       "      <th>4</th>\n",
       "      <td>Rodriguez, Grayson</td>\n",
       "      <td>680570</td>\n",
       "      <td>608369</td>\n",
       "      <td>L</td>\n",
       "      <td>CH</td>\n",
       "      <td>5</td>\n",
       "      <td>0</td>\n",
       "      <td>1</td>\n",
       "      <td>0</td>\n",
       "      <td>0</td>\n",
       "      <td>3.0 - FB - foul</td>\n",
       "      <td>14.0 - CH - ball</td>\n",
       "      <td>14.0 - CH - ball</td>\n",
       "      <td>2-2</td>\n",
       "    </tr>\n",
       "  </tbody>\n",
       "</table>\n",
       "</div>"
      ],
      "text/plain": [
       "          player_name  pitcher  batter stand pitch_type  pitch_number  \\\n",
       "0  Rodriguez, Grayson   680570  543760     R         FB             4   \n",
       "1  Rodriguez, Grayson   680570  543760     R         SL             5   \n",
       "2  Rodriguez, Grayson   680570  543760     R         FB             6   \n",
       "3  Rodriguez, Grayson   680570  608369     L         FB             4   \n",
       "4  Rodriguez, Grayson   680570  608369     L         CH             5   \n",
       "\n",
       "   outs_when_up  times_faced  XBH  large_score_dif       recent_pitch  \\\n",
       "0             0            1    0                0   14.0 - SL - ball   \n",
       "1             0            1    0                0  9.0 - FB - called   \n",
       "2             0            1    0                0   14.0 - SL - ball   \n",
       "3             0            1    0                0   14.0 - CH - ball   \n",
       "4             0            1    0                0    3.0 - FB - foul   \n",
       "\n",
       "  second_recent_pitch third_recent_pitch pitch_count  \n",
       "0     2.0 - FB - foul   14.0 - FB - ball         2-1  \n",
       "1    14.0 - SL - ball    2.0 - FB - foul         2-2  \n",
       "2   9.0 - FB - called   14.0 - SL - ball         3-2  \n",
       "3    14.0 - CH - ball  4.0 - FB - called         2-1  \n",
       "4    14.0 - CH - ball   14.0 - CH - ball         2-2  "
      ]
     },
     "execution_count": 3,
     "metadata": {},
     "output_type": "execute_result"
    }
   ],
   "source": [
    "df.head()"
   ]
  },
  {
   "cell_type": "markdown",
   "metadata": {},
   "source": [
    "- Dropping any specific data point that may be causing issues, 4-2 is not a valid `pitch_count` for our dataset"
   ]
  },
  {
   "cell_type": "code",
   "execution_count": 4,
   "metadata": {},
   "outputs": [],
   "source": [
    "df_bi = df.drop(df[df['pitch_count'] == '4-2'].index)"
   ]
  },
  {
   "cell_type": "markdown",
   "metadata": {},
   "source": [
    "- Remove any null values"
   ]
  },
  {
   "cell_type": "code",
   "execution_count": 5,
   "metadata": {},
   "outputs": [],
   "source": [
    "df_bi.dropna(axis=0, inplace=True)"
   ]
  },
  {
   "cell_type": "code",
   "execution_count": 6,
   "metadata": {},
   "outputs": [
    {
     "data": {
      "text/plain": [
       "player_name            0\n",
       "pitcher                0\n",
       "batter                 0\n",
       "stand                  0\n",
       "pitch_type             0\n",
       "pitch_number           0\n",
       "outs_when_up           0\n",
       "times_faced            0\n",
       "XBH                    0\n",
       "large_score_dif        0\n",
       "recent_pitch           0\n",
       "second_recent_pitch    0\n",
       "third_recent_pitch     0\n",
       "pitch_count            0\n",
       "dtype: int64"
      ]
     },
     "execution_count": 6,
     "metadata": {},
     "output_type": "execute_result"
    }
   ],
   "source": [
    "#Sanity Check\n",
    "df_bi.isna().sum()"
   ]
  },
  {
   "cell_type": "markdown",
   "metadata": {},
   "source": [
    "### Need to transform pitches from multiclass to binary with functions. "
   ]
  },
  {
   "cell_type": "code",
   "execution_count": 7,
   "metadata": {},
   "outputs": [],
   "source": [
    "def transform_pitch_types(column):\n",
    "    \"\"\"\n",
    "    Transform specific pitch types in a column to 'OS'.\n",
    "    'SL', 'CH', 'CB' are changed to 'OS', other values are left unchanged.\n",
    "\n",
    "    Args:\n",
    "    column (pd.Series): A pandas Series representing the column to be transformed.\n",
    "\n",
    "    Returns:\n",
    "    pd.Series: The transformed column.\n",
    "    \"\"\"\n",
    "    # Mapping specific pitch types to 'OS'\n",
    "    pitch_map = {'SL': 'OS', 'CH': 'OS', 'CB': 'OS'}\n",
    "\n",
    "    # Using the map function to apply the transformation\n",
    "    return column.map(lambda x: pitch_map.get(x, x))"
   ]
  },
  {
   "cell_type": "code",
   "execution_count": 8,
   "metadata": {},
   "outputs": [],
   "source": [
    "def transform_pitch_types_in_string(column):\n",
    "    \"\"\"\n",
    "    Transform specific substrings in a column to 'OS'.\n",
    "    Substrings 'SL', 'CH', 'CB' are changed to 'OS', other parts of the string are left unchanged.\n",
    "\n",
    "    Args:\n",
    "    column (pd.Series): A pandas Series representing the column to be transformed.\n",
    "\n",
    "    Returns:\n",
    "    pd.Series: The transformed column.\n",
    "    \"\"\"\n",
    "    def replace_substring(pitch):\n",
    "        # Replace specific substrings with 'OS'\n",
    "        for sub in ['SL', 'CH', 'CB']:\n",
    "            pitch = pitch.replace(sub, 'OS')\n",
    "        return pitch\n",
    "\n",
    "    return column.apply(replace_substring)"
   ]
  },
  {
   "cell_type": "markdown",
   "metadata": {},
   "source": [
    "- Making a new copy of the data before setting target and features"
   ]
  },
  {
   "cell_type": "code",
   "execution_count": 9,
   "metadata": {},
   "outputs": [],
   "source": [
    "df_bi_clean = df_bi.copy()\n",
    "df_bi_clean['pitch_type'] = transform_pitch_types(df_bi_clean['pitch_type'])\n",
    "df_bi_clean['recent_pitch'] = transform_pitch_types_in_string(df_bi_clean['recent_pitch'])\n",
    "df_bi_clean['second_recent_pitch'] = transform_pitch_types_in_string(df_bi_clean['second_recent_pitch'])\n",
    "df_bi_clean['third_recent_pitch'] = transform_pitch_types_in_string(df_bi_clean['third_recent_pitch'])"
   ]
  },
  {
   "cell_type": "markdown",
   "metadata": {},
   "source": [
    "- Data for `pitch_type` column should now be split into binary classes, **FB** for fastball **OS** for offspeed."
   ]
  },
  {
   "cell_type": "code",
   "execution_count": 10,
   "metadata": {},
   "outputs": [
    {
     "data": {
      "text/html": [
       "<div>\n",
       "<style scoped>\n",
       "    .dataframe tbody tr th:only-of-type {\n",
       "        vertical-align: middle;\n",
       "    }\n",
       "\n",
       "    .dataframe tbody tr th {\n",
       "        vertical-align: top;\n",
       "    }\n",
       "\n",
       "    .dataframe thead th {\n",
       "        text-align: right;\n",
       "    }\n",
       "</style>\n",
       "<table border=\"1\" class=\"dataframe\">\n",
       "  <thead>\n",
       "    <tr style=\"text-align: right;\">\n",
       "      <th></th>\n",
       "      <th>player_name</th>\n",
       "      <th>pitcher</th>\n",
       "      <th>batter</th>\n",
       "      <th>stand</th>\n",
       "      <th>pitch_type</th>\n",
       "      <th>pitch_number</th>\n",
       "      <th>outs_when_up</th>\n",
       "      <th>times_faced</th>\n",
       "      <th>XBH</th>\n",
       "      <th>large_score_dif</th>\n",
       "      <th>recent_pitch</th>\n",
       "      <th>second_recent_pitch</th>\n",
       "      <th>third_recent_pitch</th>\n",
       "      <th>pitch_count</th>\n",
       "    </tr>\n",
       "  </thead>\n",
       "  <tbody>\n",
       "    <tr>\n",
       "      <th>0</th>\n",
       "      <td>Rodriguez, Grayson</td>\n",
       "      <td>680570</td>\n",
       "      <td>543760</td>\n",
       "      <td>R</td>\n",
       "      <td>FB</td>\n",
       "      <td>4</td>\n",
       "      <td>0</td>\n",
       "      <td>1</td>\n",
       "      <td>0</td>\n",
       "      <td>0</td>\n",
       "      <td>14.0 - OS - ball</td>\n",
       "      <td>2.0 - FB - foul</td>\n",
       "      <td>14.0 - FB - ball</td>\n",
       "      <td>2-1</td>\n",
       "    </tr>\n",
       "    <tr>\n",
       "      <th>1</th>\n",
       "      <td>Rodriguez, Grayson</td>\n",
       "      <td>680570</td>\n",
       "      <td>543760</td>\n",
       "      <td>R</td>\n",
       "      <td>OS</td>\n",
       "      <td>5</td>\n",
       "      <td>0</td>\n",
       "      <td>1</td>\n",
       "      <td>0</td>\n",
       "      <td>0</td>\n",
       "      <td>9.0 - FB - called</td>\n",
       "      <td>14.0 - OS - ball</td>\n",
       "      <td>2.0 - FB - foul</td>\n",
       "      <td>2-2</td>\n",
       "    </tr>\n",
       "    <tr>\n",
       "      <th>2</th>\n",
       "      <td>Rodriguez, Grayson</td>\n",
       "      <td>680570</td>\n",
       "      <td>543760</td>\n",
       "      <td>R</td>\n",
       "      <td>FB</td>\n",
       "      <td>6</td>\n",
       "      <td>0</td>\n",
       "      <td>1</td>\n",
       "      <td>0</td>\n",
       "      <td>0</td>\n",
       "      <td>14.0 - OS - ball</td>\n",
       "      <td>9.0 - FB - called</td>\n",
       "      <td>14.0 - OS - ball</td>\n",
       "      <td>3-2</td>\n",
       "    </tr>\n",
       "    <tr>\n",
       "      <th>3</th>\n",
       "      <td>Rodriguez, Grayson</td>\n",
       "      <td>680570</td>\n",
       "      <td>608369</td>\n",
       "      <td>L</td>\n",
       "      <td>FB</td>\n",
       "      <td>4</td>\n",
       "      <td>0</td>\n",
       "      <td>1</td>\n",
       "      <td>0</td>\n",
       "      <td>0</td>\n",
       "      <td>14.0 - OS - ball</td>\n",
       "      <td>14.0 - OS - ball</td>\n",
       "      <td>4.0 - FB - called</td>\n",
       "      <td>2-1</td>\n",
       "    </tr>\n",
       "    <tr>\n",
       "      <th>4</th>\n",
       "      <td>Rodriguez, Grayson</td>\n",
       "      <td>680570</td>\n",
       "      <td>608369</td>\n",
       "      <td>L</td>\n",
       "      <td>OS</td>\n",
       "      <td>5</td>\n",
       "      <td>0</td>\n",
       "      <td>1</td>\n",
       "      <td>0</td>\n",
       "      <td>0</td>\n",
       "      <td>3.0 - FB - foul</td>\n",
       "      <td>14.0 - OS - ball</td>\n",
       "      <td>14.0 - OS - ball</td>\n",
       "      <td>2-2</td>\n",
       "    </tr>\n",
       "  </tbody>\n",
       "</table>\n",
       "</div>"
      ],
      "text/plain": [
       "          player_name  pitcher  batter stand pitch_type  pitch_number  \\\n",
       "0  Rodriguez, Grayson   680570  543760     R         FB             4   \n",
       "1  Rodriguez, Grayson   680570  543760     R         OS             5   \n",
       "2  Rodriguez, Grayson   680570  543760     R         FB             6   \n",
       "3  Rodriguez, Grayson   680570  608369     L         FB             4   \n",
       "4  Rodriguez, Grayson   680570  608369     L         OS             5   \n",
       "\n",
       "   outs_when_up  times_faced  XBH  large_score_dif       recent_pitch  \\\n",
       "0             0            1    0                0   14.0 - OS - ball   \n",
       "1             0            1    0                0  9.0 - FB - called   \n",
       "2             0            1    0                0   14.0 - OS - ball   \n",
       "3             0            1    0                0   14.0 - OS - ball   \n",
       "4             0            1    0                0    3.0 - FB - foul   \n",
       "\n",
       "  second_recent_pitch third_recent_pitch pitch_count  \n",
       "0     2.0 - FB - foul   14.0 - FB - ball         2-1  \n",
       "1    14.0 - OS - ball    2.0 - FB - foul         2-2  \n",
       "2   9.0 - FB - called   14.0 - OS - ball         3-2  \n",
       "3    14.0 - OS - ball  4.0 - FB - called         2-1  \n",
       "4    14.0 - OS - ball   14.0 - OS - ball         2-2  "
      ]
     },
     "execution_count": 10,
     "metadata": {},
     "output_type": "execute_result"
    }
   ],
   "source": [
    "#Sanity Check\n",
    "df_bi_clean.head()"
   ]
  },
  {
   "cell_type": "markdown",
   "metadata": {},
   "source": [
    "#### Set target variable and columns to include before training and splitting the data"
   ]
  },
  {
   "cell_type": "code",
   "execution_count": 11,
   "metadata": {},
   "outputs": [],
   "source": [
    "X = df_bi_clean.drop(columns=['player_name', 'pitcher', 'batter', 'pitch_type', 'pitch_number'])\n",
    "y = df_bi_clean['pitch_type']"
   ]
  },
  {
   "cell_type": "markdown",
   "metadata": {},
   "source": [
    "#### Initialize OneHotEncoder and perform `train_test_split`"
   ]
  },
  {
   "cell_type": "code",
   "execution_count": 12,
   "metadata": {},
   "outputs": [],
   "source": [
    "# Initialize OneHotEncoder\n",
    "ohe = OneHotEncoder(sparse=False, handle_unknown='error', drop='first')\n",
    "\n",
    "# Split the encoded data into training and testing sets\n",
    "X_train, X_test, y_train, y_test = train_test_split(X, y, random_state=42)"
   ]
  },
  {
   "cell_type": "markdown",
   "metadata": {},
   "source": [
    "### Create dummy model"
   ]
  },
  {
   "cell_type": "code",
   "execution_count": 13,
   "metadata": {},
   "outputs": [],
   "source": [
    "from sklearn.dummy import DummyClassifier\n",
    "\n",
    "dc = DummyClassifier(strategy='most_frequent')"
   ]
  },
  {
   "cell_type": "code",
   "execution_count": 14,
   "metadata": {},
   "outputs": [
    {
     "data": {
      "text/plain": [
       "DummyClassifier(strategy='most_frequent')"
      ]
     },
     "execution_count": 14,
     "metadata": {},
     "output_type": "execute_result"
    }
   ],
   "source": [
    "# fit dummy model\n",
    "dc.fit(X_train, y_train)"
   ]
  },
  {
   "cell_type": "code",
   "execution_count": 15,
   "metadata": {},
   "outputs": [
    {
     "data": {
      "text/plain": [
       "0.540991461927165"
      ]
     },
     "execution_count": 15,
     "metadata": {},
     "output_type": "execute_result"
    }
   ],
   "source": [
    "#Score for dummy model\n",
    "dc.score(X_test, y_test)"
   ]
  },
  {
   "cell_type": "markdown",
   "metadata": {},
   "source": [
    "- Create a `ColumnTransformer` to encode all categorical columns before we create pipeline for Modeling and Evaluation"
   ]
  },
  {
   "cell_type": "code",
   "execution_count": 16,
   "metadata": {},
   "outputs": [],
   "source": [
    "from sklearn.compose import ColumnTransformer\n",
    "\n",
    "# Create a column transformer to apply encoding only to the categorical columns\n",
    "preprocessor = ColumnTransformer(transformers=\n",
    "                                 [('cat', ohe, [0, 1, 2, 3, 4, 5, 6, 7, 8])],\n",
    "                                 remainder='passthrough')"
   ]
  },
  {
   "cell_type": "code",
   "execution_count": 17,
   "metadata": {},
   "outputs": [
    {
     "data": {
      "text/plain": [
       "(68866, 333)"
      ]
     },
     "execution_count": 17,
     "metadata": {},
     "output_type": "execute_result"
    }
   ],
   "source": [
    "preprocessor.fit(X_train)\n",
    "\n",
    "preprocessor.transform(X_train).shape"
   ]
  },
  {
   "cell_type": "code",
   "execution_count": 18,
   "metadata": {},
   "outputs": [],
   "source": [
    "X_train_transformed = preprocessor.transform(X_train)"
   ]
  },
  {
   "cell_type": "code",
   "execution_count": 19,
   "metadata": {},
   "outputs": [
    {
     "data": {
      "text/plain": [
       "(22956, 333)"
      ]
     },
     "execution_count": 19,
     "metadata": {},
     "output_type": "execute_result"
    }
   ],
   "source": [
    "preprocessor.transform(X_test).shape"
   ]
  },
  {
   "cell_type": "markdown",
   "metadata": {},
   "source": [
    "## We will create a pipeline for MLPClassifier, A neural network from sklearn"
   ]
  },
  {
   "cell_type": "code",
   "execution_count": 20,
   "metadata": {},
   "outputs": [],
   "source": [
    "from sklearn.neural_network import MLPClassifier\n",
    "\n",
    "#Build pipeline to train MLP\n",
    "pipe = Pipeline([('ct', preprocessor), ('mlp', MLPClassifier())])"
   ]
  },
  {
   "cell_type": "markdown",
   "metadata": {},
   "source": [
    "- We opted to use `RandomizedSearchCV` here instead of `GridSearchCV` that we used in our other training runs. Random search will look for the best hyperparameters that we set in the distribution. MLPclassifier has hidden layers that we can't really interpret but we use the funnel stucture with 3 layers that starts and end with smallest layers eg. (10, 30, 10)"
   ]
  },
  {
   "cell_type": "code",
   "execution_count": 22,
   "metadata": {},
   "outputs": [
    {
     "name": "stdout",
     "output_type": "stream",
     "text": [
      "Fitting 5 folds for each of 24 candidates, totalling 120 fits\n"
     ]
    },
    {
     "name": "stderr",
     "output_type": "stream",
     "text": [
      "/home/dreampy/anaconda3/envs/learn-env/lib/python3.8/site-packages/sklearn/model_selection/_search.py:278: UserWarning: The total space of parameters 24 is smaller than n_iter=50. Running 24 iterations. For exhaustive searches, use GridSearchCV.\n",
      "  warnings.warn(\n",
      "[Parallel(n_jobs=-1)]: Using backend LokyBackend with 24 concurrent workers.\n",
      "[Parallel(n_jobs=-1)]: Done 114 out of 120 | elapsed:  8.2min remaining:   25.9s\n",
      "[Parallel(n_jobs=-1)]: Done 120 out of 120 | elapsed:  8.4min finished\n",
      "/home/dreampy/anaconda3/envs/learn-env/lib/python3.8/site-packages/sklearn/neural_network/_multilayer_perceptron.py:582: ConvergenceWarning: Stochastic Optimizer: Maximum iterations (200) reached and the optimization hasn't converged yet.\n",
      "  warnings.warn(\n"
     ]
    },
    {
     "ename": "NameError",
     "evalue": "name 'best_parametbers' is not defined",
     "output_type": "error",
     "traceback": [
      "\u001b[0;31m---------------------------------------------------------------------------\u001b[0m",
      "\u001b[0;31mNameError\u001b[0m                                 Traceback (most recent call last)",
      "\u001b[0;32m<ipython-input-22-f829bfeeb9cf>\u001b[0m in \u001b[0;36m<module>\u001b[0;34m\u001b[0m\n\u001b[1;32m     20\u001b[0m \u001b[0mbest_score\u001b[0m \u001b[0;34m=\u001b[0m \u001b[0mclf\u001b[0m\u001b[0;34m.\u001b[0m\u001b[0mbest_score_\u001b[0m\u001b[0;34m\u001b[0m\u001b[0;34m\u001b[0m\u001b[0m\n\u001b[1;32m     21\u001b[0m \u001b[0;34m\u001b[0m\u001b[0m\n\u001b[0;32m---> 22\u001b[0;31m \u001b[0mprint\u001b[0m\u001b[0;34m(\u001b[0m\u001b[0;34mf\"Best Parameters: {best_parametbers}\"\u001b[0m\u001b[0;34m)\u001b[0m\u001b[0;34m\u001b[0m\u001b[0;34m\u001b[0m\u001b[0m\n\u001b[0m\u001b[1;32m     23\u001b[0m \u001b[0mprint\u001b[0m\u001b[0;34m(\u001b[0m\u001b[0;34mf\"Best Score: {best_score}\"\u001b[0m\u001b[0;34m)\u001b[0m\u001b[0;34m\u001b[0m\u001b[0;34m\u001b[0m\u001b[0m\n",
      "\u001b[0;31mNameError\u001b[0m: name 'best_parametbers' is not defined"
     ]
    }
   ],
   "source": [
    "from sklearn.model_selection import RandomizedSearchCV\n",
    "\n",
    "# Define the parameter distribution\n",
    "param_dist = {\n",
    "    'mlp__hidden_layer_sizes': [(10,30,10), (50,100,50)],\n",
    "    'mlp__activation': ['relu', 'tanh'],\n",
    "    'mlp__solver': ['sgd'],\n",
    "    'mlp__alpha': [0.0001, .001],\n",
    "    'mlp__tol': [1e-4, 1e-5, 1e-6]\n",
    "}\n",
    "\n",
    "# Create a RandomizedSearchCV object\n",
    "clf = RandomizedSearchCV(estimator=pipe, param_distributions=param_dist, n_iter=50, verbose=3, cv=5, random_state=42, n_jobs=-1)\n",
    "\n",
    "# Fit the model\n",
    "clf.fit(X_train, y_train)"
   ]
  },
  {
   "cell_type": "markdown",
   "metadata": {},
   "source": [
    "- Print the best parameters and best score for our RandomizedSearch"
   ]
  },
  {
   "cell_type": "code",
   "execution_count": 23,
   "metadata": {},
   "outputs": [
    {
     "name": "stdout",
     "output_type": "stream",
     "text": [
      "Best Parameters: {'mlp__tol': 1e-06, 'mlp__solver': 'sgd', 'mlp__hidden_layer_sizes': (50, 100, 50), 'mlp__alpha': 0.001, 'mlp__activation': 'tanh'}\n",
      "Best Score: 0.6001801145206891\n"
     ]
    }
   ],
   "source": [
    "# Get the best parameters and score\n",
    "best_parameters = clf.best_params_\n",
    "best_score = clf.best_score_\n",
    "\n",
    "print(f\"Best Parameters: {best_parameters}\")\n",
    "print(f\"Best Score: {best_score}\")"
   ]
  },
  {
   "cell_type": "markdown",
   "metadata": {},
   "source": [
    "- Generate `classification_report` we are looking at **accuracy** here for our pitch predicition. "
   ]
  },
  {
   "cell_type": "code",
   "execution_count": 26,
   "metadata": {
    "scrolled": true
   },
   "outputs": [],
   "source": [
    "from sklearn.metrics import classification_report\n",
    "\n",
    "# Step 2: Make Predictions\n",
    "y_pred = clf.predict(X_test)\n",
    "\n",
    "# Step 3: Generate Classification Report\n",
    "report = classification_report(y_test, y_pred)"
   ]
  },
  {
   "cell_type": "code",
   "execution_count": 28,
   "metadata": {},
   "outputs": [
    {
     "name": "stdout",
     "output_type": "stream",
     "text": [
      "              precision    recall  f1-score   support\n",
      "\n",
      "          FB       0.62      0.68      0.65     12419\n",
      "          OS       0.57      0.50      0.53     10537\n",
      "\n",
      "    accuracy                           0.60     22956\n",
      "   macro avg       0.59      0.59      0.59     22956\n",
      "weighted avg       0.60      0.60      0.59     22956\n",
      "\n"
     ]
    }
   ],
   "source": [
    "print(report)"
   ]
  },
  {
   "cell_type": "markdown",
   "metadata": {},
   "source": [
    "- Display ConfustionMatrix for our binary classes. "
   ]
  },
  {
   "cell_type": "code",
   "execution_count": 25,
   "metadata": {},
   "outputs": [
    {
     "data": {
      "image/png": "[encoded data removed]",
      "text/plain": [
       "<Figure size 432x288 with 2 Axes>"
      ]
     },
     "metadata": {
      "needs_background": "light"
     },
     "output_type": "display_data"
    }
   ],
   "source": [
    "from sklearn.metrics import ConfusionMatrixDisplay, confusion_matrix\n",
    "\n",
    "# Make predictions\n",
    "y_pred = clf.predict(X_test)\n",
    "\n",
    "# Generate the confusion matrix\n",
    "cm = confusion_matrix(y_test, y_pred)\n",
    "\n",
    "# Display the confusion matrix\n",
    "cm_display = ConfusionMatrixDisplay(cm, display_labels=clf.classes_).plot()"
   ]
  },
  {
   "cell_type": "code",
   "execution_count": null,
   "metadata": {},
   "outputs": [],
   "source": []
  },
  {
   "cell_type": "code",
   "execution_count": null,
   "metadata": {},
   "outputs": [],
   "source": [
    "from sklearn.metrics import RocCurveDisplay, roc_curve\n",
    "\n",
    "# clf is our classifier and it supports predict_proba()\n",
    "y_score = clf.predict_proba(X_test)[:, 1]  # Get the probabilities for the positive class\n",
    "\n",
    "# Compute and plot the ROC curve\n",
    "fpr, tpr, _ = roc_curve(y_test, y_score, pos_label=clf.classes_[1])\n",
    "roc_display = RocCurveDisplay(fpr=fpr, tpr=tpr).plot()\n"
   ]
  },
  {
   "cell_type": "code",
   "execution_count": null,
   "metadata": {},
   "outputs": [],
   "source": [
    "from sklearn.ensemble import RandomForestClassifier\n",
    "from sklearn.model_selection import GridSearchCV"
   ]
  },
  {
   "cell_type": "code",
   "execution_count": null,
   "metadata": {},
   "outputs": [],
   "source": [
    "rf_pipe = Pipeline([('ct', preprocessor), ('rf', RandomForestClassifier())])"
   ]
  },
  {
   "cell_type": "code",
   "execution_count": null,
   "metadata": {},
   "outputs": [],
   "source": [
    "grid_search_rf = {'rf__max_depth': [None, 25, 35],\n",
    "       'rf__class_weight': ['balanced', 'balanced_subsample']}"
   ]
  },
  {
   "cell_type": "code",
   "execution_count": null,
   "metadata": {},
   "outputs": [],
   "source": [
    "rf_pipe = GridSearchCV(estimator=rf_pipe, param_grid=grid_search_rf, verbose=3, n_jobs=-1)\n",
    "rf_pipe.fit(X_train, y_train)"
   ]
  },
  {
   "cell_type": "code",
   "execution_count": null,
   "metadata": {},
   "outputs": [],
   "source": [
    "import matplotlib.pyplot as plt\n",
    "import pandas as pd\n",
    "\n",
    "# Assuming rf_pipe is your trained GridSearchCV object\n",
    "best_rf = rf_pipe.best_estimator_\n",
    "\n",
    "# Access the ColumnTransformer from the pipeline\n",
    "# Replace 'preprocessor_name' with the actual name of your ColumnTransformer step\n",
    "column_transformer = best_rf.named_steps['ct']\n",
    "\n",
    "# Get the feature names after one-hot encoding and any 'passthrough' features\n",
    "encoded_feature_names = column_transformer.get_feature_names()\n",
    "\n",
    "# Extract feature importances\n",
    "importances = best_rf.named_steps['rf'].feature_importances_\n",
    "\n",
    "# Create a pandas Series with the importances and encoded feature names\n",
    "feature_importances = pd.Series(importances, index=encoded_feature_names)\n",
    "\n",
    "# Sort the feature importances in descending order\n",
    "sorted_importances = feature_importances.sort_values(ascending=True)\n",
    "\n",
    "n = 10  # for example, the top 20 features\n",
    "top_sorted_importances = sorted_importances.head(n)\n",
    "\n",
    "\n",
    "# Create a horizontal bar plot\n",
    "plt.figure(figsize=(20,12))  # You may need to adjust the figure size to fit your screen\n",
    "top_sorted_importances.plot(kind='barh')  # 'barh' creates a horizontal bar plot\n",
    "plt.title('Top Feature Importances', fontsize=16)\n",
    "plt.xlabel('Importance', fontsize=14)\n",
    "plt.ylabel('Features', fontsize=14)\n",
    "plt.show()\n",
    "plt.savefig('feature_importances_2024.png', dpi=300);"
   ]
  },
  {
   "cell_type": "code",
   "execution_count": null,
   "metadata": {},
   "outputs": [],
   "source": []
  }
 ],
 "metadata": {
  "kernelspec": {
   "display_name": "Python 3",
   "language": "python",
   "name": "python3"
  },
  "language_info": {
   "codemirror_mode": {
    "name": "ipython",
    "version": 3
   },
   "file_extension": ".py",
   "mimetype": "text/x-python",
   "name": "python",
   "nbconvert_exporter": "python",
   "pygments_lexer": "ipython3",
   "version": "3.8.5"
  }
 },
 "nbformat": 4,
 "nbformat_minor": 4
}

{
 "cells": [
  {
   "cell_type": "code",
   "execution_count": 1463,
   "metadata": {},
   "outputs": [],
   "source": [
    "import pandas as pd\n",
    "import numpy as np\n",
    "from sklearn.preprocessing import OneHotEncoder\n",
    "from sklearn.model_selection import train_test_split\n",
    "from sklearn.metrics import confusion_matrix,\\\n",
    "    precision_score, recall_score, accuracy_score, f1_score, log_loss,\\\n",
    "    roc_curve, roc_auc_score, classification_report, ConfusionMatrixDisplay"
   ]
  },
  {
   "cell_type": "code",
   "execution_count": 1464,
   "metadata": {},
   "outputs": [],
   "source": [
    "df = pd.read_csv('../data/comb_clean_pitcher.csv', index_col=False)"
   ]
  },
  {
   "cell_type": "code",
   "execution_count": 1465,
   "metadata": {
    "scrolled": false
   },
   "outputs": [
    {
     "data": {
      "text/html": [
       "<div>\n",
       "<style scoped>\n",
       "    .dataframe tbody tr th:only-of-type {\n",
       "        vertical-align: middle;\n",
       "    }\n",
       "\n",
       "    .dataframe tbody tr th {\n",
       "        vertical-align: top;\n",
       "    }\n",
       "\n",
       "    .dataframe thead th {\n",
       "        text-align: right;\n",
       "    }\n",
       "</style>\n",
       "<table border=\"1\" class=\"dataframe\">\n",
       "  <thead>\n",
       "    <tr style=\"text-align: right;\">\n",
       "      <th></th>\n",
       "      <th>player_name</th>\n",
       "      <th>pitcher</th>\n",
       "      <th>batter</th>\n",
       "      <th>stand</th>\n",
       "      <th>pitch_type</th>\n",
       "      <th>pitch_number</th>\n",
       "      <th>outs_when_up</th>\n",
       "      <th>times_faced</th>\n",
       "      <th>XBH</th>\n",
       "      <th>large_score_dif</th>\n",
       "      <th>recent_pitch</th>\n",
       "      <th>second_recent_pitch</th>\n",
       "      <th>third_recent_pitch</th>\n",
       "      <th>pitch_count</th>\n",
       "    </tr>\n",
       "  </thead>\n",
       "  <tbody>\n",
       "    <tr>\n",
       "      <th>0</th>\n",
       "      <td>Rodriguez, Grayson</td>\n",
       "      <td>680570</td>\n",
       "      <td>543760</td>\n",
       "      <td>R</td>\n",
       "      <td>FB</td>\n",
       "      <td>4</td>\n",
       "      <td>0</td>\n",
       "      <td>1</td>\n",
       "      <td>0</td>\n",
       "      <td>0</td>\n",
       "      <td>14.0 - SL - ball</td>\n",
       "      <td>2.0 - FB - foul</td>\n",
       "      <td>14.0 - FB - ball</td>\n",
       "      <td>2-1</td>\n",
       "    </tr>\n",
       "    <tr>\n",
       "      <th>1</th>\n",
       "      <td>Rodriguez, Grayson</td>\n",
       "      <td>680570</td>\n",
       "      <td>543760</td>\n",
       "      <td>R</td>\n",
       "      <td>SL</td>\n",
       "      <td>5</td>\n",
       "      <td>0</td>\n",
       "      <td>1</td>\n",
       "      <td>0</td>\n",
       "      <td>0</td>\n",
       "      <td>9.0 - FB - called</td>\n",
       "      <td>14.0 - SL - ball</td>\n",
       "      <td>2.0 - FB - foul</td>\n",
       "      <td>2-2</td>\n",
       "    </tr>\n",
       "    <tr>\n",
       "      <th>2</th>\n",
       "      <td>Rodriguez, Grayson</td>\n",
       "      <td>680570</td>\n",
       "      <td>543760</td>\n",
       "      <td>R</td>\n",
       "      <td>FB</td>\n",
       "      <td>6</td>\n",
       "      <td>0</td>\n",
       "      <td>1</td>\n",
       "      <td>0</td>\n",
       "      <td>0</td>\n",
       "      <td>14.0 - SL - ball</td>\n",
       "      <td>9.0 - FB - called</td>\n",
       "      <td>14.0 - SL - ball</td>\n",
       "      <td>3-2</td>\n",
       "    </tr>\n",
       "    <tr>\n",
       "      <th>3</th>\n",
       "      <td>Rodriguez, Grayson</td>\n",
       "      <td>680570</td>\n",
       "      <td>608369</td>\n",
       "      <td>L</td>\n",
       "      <td>FB</td>\n",
       "      <td>4</td>\n",
       "      <td>0</td>\n",
       "      <td>1</td>\n",
       "      <td>0</td>\n",
       "      <td>0</td>\n",
       "      <td>14.0 - CH - ball</td>\n",
       "      <td>14.0 - CH - ball</td>\n",
       "      <td>4.0 - FB - called</td>\n",
       "      <td>2-1</td>\n",
       "    </tr>\n",
       "    <tr>\n",
       "      <th>4</th>\n",
       "      <td>Rodriguez, Grayson</td>\n",
       "      <td>680570</td>\n",
       "      <td>608369</td>\n",
       "      <td>L</td>\n",
       "      <td>CH</td>\n",
       "      <td>5</td>\n",
       "      <td>0</td>\n",
       "      <td>1</td>\n",
       "      <td>0</td>\n",
       "      <td>0</td>\n",
       "      <td>3.0 - FB - foul</td>\n",
       "      <td>14.0 - CH - ball</td>\n",
       "      <td>14.0 - CH - ball</td>\n",
       "      <td>2-2</td>\n",
       "    </tr>\n",
       "  </tbody>\n",
       "</table>\n",
       "</div>"
      ],
      "text/plain": [
       "          player_name  pitcher  batter stand pitch_type  pitch_number  \\\n",
       "0  Rodriguez, Grayson   680570  543760     R         FB             4   \n",
       "1  Rodriguez, Grayson   680570  543760     R         SL             5   \n",
       "2  Rodriguez, Grayson   680570  543760     R         FB             6   \n",
       "3  Rodriguez, Grayson   680570  608369     L         FB             4   \n",
       "4  Rodriguez, Grayson   680570  608369     L         CH             5   \n",
       "\n",
       "   outs_when_up  times_faced  XBH  large_score_dif       recent_pitch  \\\n",
       "0             0            1    0                0   14.0 - SL - ball   \n",
       "1             0            1    0                0  9.0 - FB - called   \n",
       "2             0            1    0                0   14.0 - SL - ball   \n",
       "3             0            1    0                0   14.0 - CH - ball   \n",
       "4             0            1    0                0    3.0 - FB - foul   \n",
       "\n",
       "  second_recent_pitch third_recent_pitch pitch_count  \n",
       "0     2.0 - FB - foul   14.0 - FB - ball         2-1  \n",
       "1    14.0 - SL - ball    2.0 - FB - foul         2-2  \n",
       "2   9.0 - FB - called   14.0 - SL - ball         3-2  \n",
       "3    14.0 - CH - ball  4.0 - FB - called         2-1  \n",
       "4    14.0 - CH - ball   14.0 - CH - ball         2-2  "
      ]
     },
     "execution_count": 1465,
     "metadata": {},
     "output_type": "execute_result"
    }
   ],
   "source": [
    "df.head()"
   ]
  },
  {
   "cell_type": "code",
   "execution_count": 1466,
   "metadata": {},
   "outputs": [],
   "source": [
    "def transform_pitch_types(column):\n",
    "    \"\"\"\n",
    "    Transform specific pitch types in a column to 'OS'.\n",
    "    'SL', 'CH', 'CB' are changed to 'OS', other values are left unchanged.\n",
    "\n",
    "    Args:\n",
    "    column (pd.Series): A pandas Series representing the column to be transformed.\n",
    "\n",
    "    Returns:\n",
    "    pd.Series: The transformed column.\n",
    "    \"\"\"\n",
    "    # Mapping specific pitch types to 'OS'\n",
    "    pitch_map = {'SL': 'OS', 'CH': 'OS', 'CB': 'OS'}\n",
    "\n",
    "    # Using the map function to apply the transformation\n",
    "    return column.map(lambda x: pitch_map.get(x, x))"
   ]
  },
  {
   "cell_type": "code",
   "execution_count": 1467,
   "metadata": {},
   "outputs": [],
   "source": [
    "def transform_pitch_types_in_string(column):\n",
    "    \"\"\"\n",
    "    Transform specific substrings in a column to 'OS'.\n",
    "    Substrings 'SL', 'CH', 'CB' are changed to 'OS', other parts of the string are left unchanged.\n",
    "\n",
    "    Args:\n",
    "    column (pd.Series): A pandas Series representing the column to be transformed.\n",
    "\n",
    "    Returns:\n",
    "    pd.Series: The transformed column.\n",
    "    \"\"\"\n",
    "    def replace_substring(pitch):\n",
    "        # Replace specific substrings with 'OS'\n",
    "        for sub in ['SL', 'CH', 'CB']:\n",
    "            pitch = pitch.replace(sub, 'OS')\n",
    "        return pitch\n",
    "\n",
    "    return column.apply(replace_substring)"
   ]
  },
  {
   "cell_type": "code",
   "execution_count": 1468,
   "metadata": {},
   "outputs": [],
   "source": [
    "df['pitch_type'] = transform_pitch_types(df['pitch_type'])\n",
    "df['recent_pitch'] = transform_pitch_types_in_string(df['recent_pitch'])\n",
    "df['second_recent_pitch'] = transform_pitch_types_in_string(df['second_recent_pitch'])\n",
    "df['third_recent_pitch'] = transform_pitch_types_in_string(df['third_recent_pitch'])"
   ]
  },
  {
   "cell_type": "code",
   "execution_count": 1469,
   "metadata": {},
   "outputs": [],
   "source": [
    "df.dropna(axis=0, inplace=True)"
   ]
  },
  {
   "cell_type": "code",
   "execution_count": 1470,
   "metadata": {},
   "outputs": [],
   "source": [
    "df.drop(df.loc[df['pitch_count']=='4-2'].index, inplace=True)"
   ]
  },
  {
   "cell_type": "code",
   "execution_count": 1471,
   "metadata": {},
   "outputs": [
    {
     "data": {
      "text/plain": [
       "1-2    27479\n",
       "2-2    23667\n",
       "2-1    14634\n",
       "3-2    14165\n",
       "3-1     5845\n",
       "0-2     3484\n",
       "3-0     2548\n",
       "Name: pitch_count, dtype: int64"
      ]
     },
     "execution_count": 1471,
     "metadata": {},
     "output_type": "execute_result"
    }
   ],
   "source": [
    "df['pitch_count'].value_counts()"
   ]
  },
  {
   "cell_type": "code",
   "execution_count": 1472,
   "metadata": {},
   "outputs": [],
   "source": [
    "X = df.drop(columns=['player_name', 'pitcher', 'batter', 'pitch_type', 'pitch_number' ])\n",
    "y = df['pitch_type']\n",
    "\n",
    "categorical_cols = ['recent_pitch','pitch_count', 'second_recent_pitch','XBH','third_recent_pitch', 'stand', 'outs_when_up', 'times_faced', \n",
    "       'large_score_dif']"
   ]
  },
  {
   "cell_type": "code",
   "execution_count": 1473,
   "metadata": {},
   "outputs": [
    {
     "data": {
      "text/plain": [
       "Index(['stand', 'outs_when_up', 'times_faced', 'XBH', 'large_score_dif',\n",
       "       'recent_pitch', 'second_recent_pitch', 'third_recent_pitch',\n",
       "       'pitch_count'],\n",
       "      dtype='object')"
      ]
     },
     "execution_count": 1473,
     "metadata": {},
     "output_type": "execute_result"
    }
   ],
   "source": [
    "X.columns"
   ]
  },
  {
   "cell_type": "code",
   "execution_count": 1474,
   "metadata": {},
   "outputs": [],
   "source": [
    "from sklearn.compose import ColumnTransformer\n",
    "from sklearn.tree import DecisionTreeClassifier\n",
    "from sklearn.dummy import DummyClassifier\n",
    "from sklearn.pipeline import Pipeline"
   ]
  },
  {
   "cell_type": "code",
   "execution_count": 1475,
   "metadata": {},
   "outputs": [],
   "source": [
    "# Initialize OneHotEncoder\n",
    "ohe = OneHotEncoder(sparse=False, handle_unknown='error', drop='first')\n",
    "\n",
    "# Split the encoded data into training and testing sets\n",
    "X_train, X_test, y_train, y_test = train_test_split(X, y, random_state=42)"
   ]
  },
  {
   "cell_type": "code",
   "execution_count": 1476,
   "metadata": {},
   "outputs": [],
   "source": [
    "dc = DummyClassifier(strategy='most_frequent')"
   ]
  },
  {
   "cell_type": "code",
   "execution_count": 1477,
   "metadata": {},
   "outputs": [
    {
     "data": {
      "text/plain": [
       "DummyClassifier(strategy='most_frequent')"
      ]
     },
     "execution_count": 1477,
     "metadata": {},
     "output_type": "execute_result"
    }
   ],
   "source": [
    "dc.fit(X_train, y_train)"
   ]
  },
  {
   "cell_type": "code",
   "execution_count": 1478,
   "metadata": {},
   "outputs": [
    {
     "data": {
      "text/plain": [
       "0.540991461927165"
      ]
     },
     "execution_count": 1478,
     "metadata": {},
     "output_type": "execute_result"
    }
   ],
   "source": [
    "dc.score(X_test, y_test)"
   ]
  },
  {
   "cell_type": "code",
   "execution_count": 1479,
   "metadata": {},
   "outputs": [],
   "source": [
    "# Create a column transformer to apply encoding only to the categorical columns\n",
    "preprocessor = ColumnTransformer(transformers=\n",
    "                                 [('cat', ohe, [0,1,2,3,4,5,6,7,8])],\n",
    "                                 remainder='passthrough')"
   ]
  },
  {
   "cell_type": "code",
   "execution_count": 1480,
   "metadata": {
    "scrolled": false
   },
   "outputs": [
    {
     "data": {
      "text/html": [
       "<div>\n",
       "<style scoped>\n",
       "    .dataframe tbody tr th:only-of-type {\n",
       "        vertical-align: middle;\n",
       "    }\n",
       "\n",
       "    .dataframe tbody tr th {\n",
       "        vertical-align: top;\n",
       "    }\n",
       "\n",
       "    .dataframe thead th {\n",
       "        text-align: right;\n",
       "    }\n",
       "</style>\n",
       "<table border=\"1\" class=\"dataframe\">\n",
       "  <thead>\n",
       "    <tr style=\"text-align: right;\">\n",
       "      <th></th>\n",
       "      <th>stand</th>\n",
       "      <th>outs_when_up</th>\n",
       "      <th>times_faced</th>\n",
       "      <th>XBH</th>\n",
       "      <th>large_score_dif</th>\n",
       "      <th>recent_pitch</th>\n",
       "      <th>second_recent_pitch</th>\n",
       "      <th>third_recent_pitch</th>\n",
       "      <th>pitch_count</th>\n",
       "    </tr>\n",
       "  </thead>\n",
       "  <tbody>\n",
       "    <tr>\n",
       "      <th>40492</th>\n",
       "      <td>R</td>\n",
       "      <td>0</td>\n",
       "      <td>1</td>\n",
       "      <td>0</td>\n",
       "      <td>0</td>\n",
       "      <td>14.0 - FB - ball</td>\n",
       "      <td>11.0 - FB - foul</td>\n",
       "      <td>9.0 - FB - called</td>\n",
       "      <td>1-2</td>\n",
       "    </tr>\n",
       "    <tr>\n",
       "      <th>67903</th>\n",
       "      <td>R</td>\n",
       "      <td>2</td>\n",
       "      <td>2</td>\n",
       "      <td>0</td>\n",
       "      <td>0</td>\n",
       "      <td>13.0 - OS - swinging</td>\n",
       "      <td>13.0 - FB - ball</td>\n",
       "      <td>7.0 - FB - called</td>\n",
       "      <td>1-2</td>\n",
       "    </tr>\n",
       "    <tr>\n",
       "      <th>6962</th>\n",
       "      <td>R</td>\n",
       "      <td>0</td>\n",
       "      <td>1</td>\n",
       "      <td>0</td>\n",
       "      <td>0</td>\n",
       "      <td>14.0 - FB - ball</td>\n",
       "      <td>12.0 - FB - ball</td>\n",
       "      <td>6.0 - FB - called</td>\n",
       "      <td>2-1</td>\n",
       "    </tr>\n",
       "    <tr>\n",
       "      <th>24251</th>\n",
       "      <td>L</td>\n",
       "      <td>0</td>\n",
       "      <td>2</td>\n",
       "      <td>0</td>\n",
       "      <td>0</td>\n",
       "      <td>14.0 - FB - ball</td>\n",
       "      <td>14.0 - FB - ball</td>\n",
       "      <td>14.0 - OS - ball</td>\n",
       "      <td>3-2</td>\n",
       "    </tr>\n",
       "    <tr>\n",
       "      <th>31550</th>\n",
       "      <td>R</td>\n",
       "      <td>1</td>\n",
       "      <td>1</td>\n",
       "      <td>0</td>\n",
       "      <td>0</td>\n",
       "      <td>14.0 - OS - ball</td>\n",
       "      <td>8.0 - FB - ball</td>\n",
       "      <td>2.0 - FB - foul</td>\n",
       "      <td>2-1</td>\n",
       "    </tr>\n",
       "    <tr>\n",
       "      <th>...</th>\n",
       "      <td>...</td>\n",
       "      <td>...</td>\n",
       "      <td>...</td>\n",
       "      <td>...</td>\n",
       "      <td>...</td>\n",
       "      <td>...</td>\n",
       "      <td>...</td>\n",
       "      <td>...</td>\n",
       "      <td>...</td>\n",
       "    </tr>\n",
       "    <tr>\n",
       "      <th>6265</th>\n",
       "      <td>L</td>\n",
       "      <td>1</td>\n",
       "      <td>1</td>\n",
       "      <td>0</td>\n",
       "      <td>0</td>\n",
       "      <td>11.0 - FB - ball</td>\n",
       "      <td>13.0 - OS - ball</td>\n",
       "      <td>3.0 - FB - foul</td>\n",
       "      <td>3-2</td>\n",
       "    </tr>\n",
       "    <tr>\n",
       "      <th>54889</th>\n",
       "      <td>R</td>\n",
       "      <td>2</td>\n",
       "      <td>2</td>\n",
       "      <td>1</td>\n",
       "      <td>0</td>\n",
       "      <td>14.0 - FB - ball</td>\n",
       "      <td>14.0 - FB - ball</td>\n",
       "      <td>14.0 - OS - called</td>\n",
       "      <td>2-1</td>\n",
       "    </tr>\n",
       "    <tr>\n",
       "      <th>76823</th>\n",
       "      <td>L</td>\n",
       "      <td>1</td>\n",
       "      <td>1</td>\n",
       "      <td>0</td>\n",
       "      <td>0</td>\n",
       "      <td>13.0 - OS - foul</td>\n",
       "      <td>13.0 - OS - swinging</td>\n",
       "      <td>13.0 - OS - ball</td>\n",
       "      <td>2-2</td>\n",
       "    </tr>\n",
       "    <tr>\n",
       "      <th>860</th>\n",
       "      <td>L</td>\n",
       "      <td>1</td>\n",
       "      <td>2</td>\n",
       "      <td>0</td>\n",
       "      <td>0</td>\n",
       "      <td>8.0 - OS - foul</td>\n",
       "      <td>11.0 - FB - ball</td>\n",
       "      <td>13.0 - OS - ball</td>\n",
       "      <td>2-2</td>\n",
       "    </tr>\n",
       "    <tr>\n",
       "      <th>15796</th>\n",
       "      <td>R</td>\n",
       "      <td>1</td>\n",
       "      <td>2</td>\n",
       "      <td>0</td>\n",
       "      <td>0</td>\n",
       "      <td>12.0 - FB - ball</td>\n",
       "      <td>14.0 - OS - foul</td>\n",
       "      <td>4.0 - OS - called</td>\n",
       "      <td>1-2</td>\n",
       "    </tr>\n",
       "  </tbody>\n",
       "</table>\n",
       "<p>68866 rows × 9 columns</p>\n",
       "</div>"
      ],
      "text/plain": [
       "      stand  outs_when_up  times_faced  XBH  large_score_dif  \\\n",
       "40492     R             0            1    0                0   \n",
       "67903     R             2            2    0                0   \n",
       "6962      R             0            1    0                0   \n",
       "24251     L             0            2    0                0   \n",
       "31550     R             1            1    0                0   \n",
       "...     ...           ...          ...  ...              ...   \n",
       "6265      L             1            1    0                0   \n",
       "54889     R             2            2    1                0   \n",
       "76823     L             1            1    0                0   \n",
       "860       L             1            2    0                0   \n",
       "15796     R             1            2    0                0   \n",
       "\n",
       "               recent_pitch   second_recent_pitch  third_recent_pitch  \\\n",
       "40492      14.0 - FB - ball      11.0 - FB - foul   9.0 - FB - called   \n",
       "67903  13.0 - OS - swinging      13.0 - FB - ball   7.0 - FB - called   \n",
       "6962       14.0 - FB - ball      12.0 - FB - ball   6.0 - FB - called   \n",
       "24251      14.0 - FB - ball      14.0 - FB - ball    14.0 - OS - ball   \n",
       "31550      14.0 - OS - ball       8.0 - FB - ball     2.0 - FB - foul   \n",
       "...                     ...                   ...                 ...   \n",
       "6265       11.0 - FB - ball      13.0 - OS - ball     3.0 - FB - foul   \n",
       "54889      14.0 - FB - ball      14.0 - FB - ball  14.0 - OS - called   \n",
       "76823      13.0 - OS - foul  13.0 - OS - swinging    13.0 - OS - ball   \n",
       "860         8.0 - OS - foul      11.0 - FB - ball    13.0 - OS - ball   \n",
       "15796      12.0 - FB - ball      14.0 - OS - foul   4.0 - OS - called   \n",
       "\n",
       "      pitch_count  \n",
       "40492         1-2  \n",
       "67903         1-2  \n",
       "6962          2-1  \n",
       "24251         3-2  \n",
       "31550         2-1  \n",
       "...           ...  \n",
       "6265          3-2  \n",
       "54889         2-1  \n",
       "76823         2-2  \n",
       "860           2-2  \n",
       "15796         1-2  \n",
       "\n",
       "[68866 rows x 9 columns]"
      ]
     },
     "execution_count": 1480,
     "metadata": {},
     "output_type": "execute_result"
    }
   ],
   "source": [
    "X_train"
   ]
  },
  {
   "cell_type": "code",
   "execution_count": 1481,
   "metadata": {},
   "outputs": [
    {
     "data": {
      "text/html": [
       "<div>\n",
       "<style scoped>\n",
       "    .dataframe tbody tr th:only-of-type {\n",
       "        vertical-align: middle;\n",
       "    }\n",
       "\n",
       "    .dataframe tbody tr th {\n",
       "        vertical-align: top;\n",
       "    }\n",
       "\n",
       "    .dataframe thead th {\n",
       "        text-align: right;\n",
       "    }\n",
       "</style>\n",
       "<table border=\"1\" class=\"dataframe\">\n",
       "  <thead>\n",
       "    <tr style=\"text-align: right;\">\n",
       "      <th></th>\n",
       "      <th>stand</th>\n",
       "      <th>outs_when_up</th>\n",
       "      <th>times_faced</th>\n",
       "      <th>XBH</th>\n",
       "      <th>large_score_dif</th>\n",
       "      <th>recent_pitch</th>\n",
       "      <th>second_recent_pitch</th>\n",
       "      <th>third_recent_pitch</th>\n",
       "      <th>pitch_count</th>\n",
       "    </tr>\n",
       "  </thead>\n",
       "  <tbody>\n",
       "    <tr>\n",
       "      <th>40492</th>\n",
       "      <td>R</td>\n",
       "      <td>0</td>\n",
       "      <td>1</td>\n",
       "      <td>0</td>\n",
       "      <td>0</td>\n",
       "      <td>14.0 - FB - ball</td>\n",
       "      <td>11.0 - FB - foul</td>\n",
       "      <td>9.0 - FB - called</td>\n",
       "      <td>1-2</td>\n",
       "    </tr>\n",
       "    <tr>\n",
       "      <th>67903</th>\n",
       "      <td>R</td>\n",
       "      <td>2</td>\n",
       "      <td>2</td>\n",
       "      <td>0</td>\n",
       "      <td>0</td>\n",
       "      <td>13.0 - OS - swinging</td>\n",
       "      <td>13.0 - FB - ball</td>\n",
       "      <td>7.0 - FB - called</td>\n",
       "      <td>1-2</td>\n",
       "    </tr>\n",
       "    <tr>\n",
       "      <th>6962</th>\n",
       "      <td>R</td>\n",
       "      <td>0</td>\n",
       "      <td>1</td>\n",
       "      <td>0</td>\n",
       "      <td>0</td>\n",
       "      <td>14.0 - FB - ball</td>\n",
       "      <td>12.0 - FB - ball</td>\n",
       "      <td>6.0 - FB - called</td>\n",
       "      <td>2-1</td>\n",
       "    </tr>\n",
       "    <tr>\n",
       "      <th>24251</th>\n",
       "      <td>L</td>\n",
       "      <td>0</td>\n",
       "      <td>2</td>\n",
       "      <td>0</td>\n",
       "      <td>0</td>\n",
       "      <td>14.0 - FB - ball</td>\n",
       "      <td>14.0 - FB - ball</td>\n",
       "      <td>14.0 - OS - ball</td>\n",
       "      <td>3-2</td>\n",
       "    </tr>\n",
       "    <tr>\n",
       "      <th>31550</th>\n",
       "      <td>R</td>\n",
       "      <td>1</td>\n",
       "      <td>1</td>\n",
       "      <td>0</td>\n",
       "      <td>0</td>\n",
       "      <td>14.0 - OS - ball</td>\n",
       "      <td>8.0 - FB - ball</td>\n",
       "      <td>2.0 - FB - foul</td>\n",
       "      <td>2-1</td>\n",
       "    </tr>\n",
       "    <tr>\n",
       "      <th>...</th>\n",
       "      <td>...</td>\n",
       "      <td>...</td>\n",
       "      <td>...</td>\n",
       "      <td>...</td>\n",
       "      <td>...</td>\n",
       "      <td>...</td>\n",
       "      <td>...</td>\n",
       "      <td>...</td>\n",
       "      <td>...</td>\n",
       "    </tr>\n",
       "    <tr>\n",
       "      <th>6265</th>\n",
       "      <td>L</td>\n",
       "      <td>1</td>\n",
       "      <td>1</td>\n",
       "      <td>0</td>\n",
       "      <td>0</td>\n",
       "      <td>11.0 - FB - ball</td>\n",
       "      <td>13.0 - OS - ball</td>\n",
       "      <td>3.0 - FB - foul</td>\n",
       "      <td>3-2</td>\n",
       "    </tr>\n",
       "    <tr>\n",
       "      <th>54889</th>\n",
       "      <td>R</td>\n",
       "      <td>2</td>\n",
       "      <td>2</td>\n",
       "      <td>1</td>\n",
       "      <td>0</td>\n",
       "      <td>14.0 - FB - ball</td>\n",
       "      <td>14.0 - FB - ball</td>\n",
       "      <td>14.0 - OS - called</td>\n",
       "      <td>2-1</td>\n",
       "    </tr>\n",
       "    <tr>\n",
       "      <th>76823</th>\n",
       "      <td>L</td>\n",
       "      <td>1</td>\n",
       "      <td>1</td>\n",
       "      <td>0</td>\n",
       "      <td>0</td>\n",
       "      <td>13.0 - OS - foul</td>\n",
       "      <td>13.0 - OS - swinging</td>\n",
       "      <td>13.0 - OS - ball</td>\n",
       "      <td>2-2</td>\n",
       "    </tr>\n",
       "    <tr>\n",
       "      <th>860</th>\n",
       "      <td>L</td>\n",
       "      <td>1</td>\n",
       "      <td>2</td>\n",
       "      <td>0</td>\n",
       "      <td>0</td>\n",
       "      <td>8.0 - OS - foul</td>\n",
       "      <td>11.0 - FB - ball</td>\n",
       "      <td>13.0 - OS - ball</td>\n",
       "      <td>2-2</td>\n",
       "    </tr>\n",
       "    <tr>\n",
       "      <th>15796</th>\n",
       "      <td>R</td>\n",
       "      <td>1</td>\n",
       "      <td>2</td>\n",
       "      <td>0</td>\n",
       "      <td>0</td>\n",
       "      <td>12.0 - FB - ball</td>\n",
       "      <td>14.0 - OS - foul</td>\n",
       "      <td>4.0 - OS - called</td>\n",
       "      <td>1-2</td>\n",
       "    </tr>\n",
       "  </tbody>\n",
       "</table>\n",
       "<p>68866 rows × 9 columns</p>\n",
       "</div>"
      ],
      "text/plain": [
       "      stand  outs_when_up  times_faced  XBH  large_score_dif  \\\n",
       "40492     R             0            1    0                0   \n",
       "67903     R             2            2    0                0   \n",
       "6962      R             0            1    0                0   \n",
       "24251     L             0            2    0                0   \n",
       "31550     R             1            1    0                0   \n",
       "...     ...           ...          ...  ...              ...   \n",
       "6265      L             1            1    0                0   \n",
       "54889     R             2            2    1                0   \n",
       "76823     L             1            1    0                0   \n",
       "860       L             1            2    0                0   \n",
       "15796     R             1            2    0                0   \n",
       "\n",
       "               recent_pitch   second_recent_pitch  third_recent_pitch  \\\n",
       "40492      14.0 - FB - ball      11.0 - FB - foul   9.0 - FB - called   \n",
       "67903  13.0 - OS - swinging      13.0 - FB - ball   7.0 - FB - called   \n",
       "6962       14.0 - FB - ball      12.0 - FB - ball   6.0 - FB - called   \n",
       "24251      14.0 - FB - ball      14.0 - FB - ball    14.0 - OS - ball   \n",
       "31550      14.0 - OS - ball       8.0 - FB - ball     2.0 - FB - foul   \n",
       "...                     ...                   ...                 ...   \n",
       "6265       11.0 - FB - ball      13.0 - OS - ball     3.0 - FB - foul   \n",
       "54889      14.0 - FB - ball      14.0 - FB - ball  14.0 - OS - called   \n",
       "76823      13.0 - OS - foul  13.0 - OS - swinging    13.0 - OS - ball   \n",
       "860         8.0 - OS - foul      11.0 - FB - ball    13.0 - OS - ball   \n",
       "15796      12.0 - FB - ball      14.0 - OS - foul   4.0 - OS - called   \n",
       "\n",
       "      pitch_count  \n",
       "40492         1-2  \n",
       "67903         1-2  \n",
       "6962          2-1  \n",
       "24251         3-2  \n",
       "31550         2-1  \n",
       "...           ...  \n",
       "6265          3-2  \n",
       "54889         2-1  \n",
       "76823         2-2  \n",
       "860           2-2  \n",
       "15796         1-2  \n",
       "\n",
       "[68866 rows x 9 columns]"
      ]
     },
     "execution_count": 1481,
     "metadata": {},
     "output_type": "execute_result"
    }
   ],
   "source": [
    "X_train"
   ]
  },
  {
   "cell_type": "code",
   "execution_count": 1482,
   "metadata": {},
   "outputs": [
    {
     "data": {
      "text/plain": [
       "(68866, 333)"
      ]
     },
     "execution_count": 1482,
     "metadata": {},
     "output_type": "execute_result"
    }
   ],
   "source": [
    "preprocessor.fit(X_train)\n",
    "\n",
    "preprocessor.transform(X_train).shape"
   ]
  },
  {
   "cell_type": "code",
   "execution_count": 1483,
   "metadata": {
    "scrolled": true
   },
   "outputs": [
    {
     "data": {
      "text/plain": [
       "(22956, 333)"
      ]
     },
     "execution_count": 1483,
     "metadata": {},
     "output_type": "execute_result"
    }
   ],
   "source": [
    "preprocessor.transform(X_test).shape"
   ]
  },
  {
   "cell_type": "code",
   "execution_count": 1484,
   "metadata": {},
   "outputs": [
    {
     "data": {
      "text/html": [
       "<div>\n",
       "<style scoped>\n",
       "    .dataframe tbody tr th:only-of-type {\n",
       "        vertical-align: middle;\n",
       "    }\n",
       "\n",
       "    .dataframe tbody tr th {\n",
       "        vertical-align: top;\n",
       "    }\n",
       "\n",
       "    .dataframe thead th {\n",
       "        text-align: right;\n",
       "    }\n",
       "</style>\n",
       "<table border=\"1\" class=\"dataframe\">\n",
       "  <thead>\n",
       "    <tr style=\"text-align: right;\">\n",
       "      <th></th>\n",
       "      <th>stand</th>\n",
       "      <th>outs_when_up</th>\n",
       "      <th>times_faced</th>\n",
       "      <th>XBH</th>\n",
       "      <th>large_score_dif</th>\n",
       "      <th>recent_pitch</th>\n",
       "      <th>second_recent_pitch</th>\n",
       "      <th>third_recent_pitch</th>\n",
       "      <th>pitch_count</th>\n",
       "    </tr>\n",
       "  </thead>\n",
       "  <tbody>\n",
       "    <tr>\n",
       "      <th>40492</th>\n",
       "      <td>R</td>\n",
       "      <td>0</td>\n",
       "      <td>1</td>\n",
       "      <td>0</td>\n",
       "      <td>0</td>\n",
       "      <td>14.0 - FB - ball</td>\n",
       "      <td>11.0 - FB - foul</td>\n",
       "      <td>9.0 - FB - called</td>\n",
       "      <td>1-2</td>\n",
       "    </tr>\n",
       "    <tr>\n",
       "      <th>67903</th>\n",
       "      <td>R</td>\n",
       "      <td>2</td>\n",
       "      <td>2</td>\n",
       "      <td>0</td>\n",
       "      <td>0</td>\n",
       "      <td>13.0 - OS - swinging</td>\n",
       "      <td>13.0 - FB - ball</td>\n",
       "      <td>7.0 - FB - called</td>\n",
       "      <td>1-2</td>\n",
       "    </tr>\n",
       "    <tr>\n",
       "      <th>6962</th>\n",
       "      <td>R</td>\n",
       "      <td>0</td>\n",
       "      <td>1</td>\n",
       "      <td>0</td>\n",
       "      <td>0</td>\n",
       "      <td>14.0 - FB - ball</td>\n",
       "      <td>12.0 - FB - ball</td>\n",
       "      <td>6.0 - FB - called</td>\n",
       "      <td>2-1</td>\n",
       "    </tr>\n",
       "    <tr>\n",
       "      <th>24251</th>\n",
       "      <td>L</td>\n",
       "      <td>0</td>\n",
       "      <td>2</td>\n",
       "      <td>0</td>\n",
       "      <td>0</td>\n",
       "      <td>14.0 - FB - ball</td>\n",
       "      <td>14.0 - FB - ball</td>\n",
       "      <td>14.0 - OS - ball</td>\n",
       "      <td>3-2</td>\n",
       "    </tr>\n",
       "    <tr>\n",
       "      <th>31550</th>\n",
       "      <td>R</td>\n",
       "      <td>1</td>\n",
       "      <td>1</td>\n",
       "      <td>0</td>\n",
       "      <td>0</td>\n",
       "      <td>14.0 - OS - ball</td>\n",
       "      <td>8.0 - FB - ball</td>\n",
       "      <td>2.0 - FB - foul</td>\n",
       "      <td>2-1</td>\n",
       "    </tr>\n",
       "    <tr>\n",
       "      <th>...</th>\n",
       "      <td>...</td>\n",
       "      <td>...</td>\n",
       "      <td>...</td>\n",
       "      <td>...</td>\n",
       "      <td>...</td>\n",
       "      <td>...</td>\n",
       "      <td>...</td>\n",
       "      <td>...</td>\n",
       "      <td>...</td>\n",
       "    </tr>\n",
       "    <tr>\n",
       "      <th>6265</th>\n",
       "      <td>L</td>\n",
       "      <td>1</td>\n",
       "      <td>1</td>\n",
       "      <td>0</td>\n",
       "      <td>0</td>\n",
       "      <td>11.0 - FB - ball</td>\n",
       "      <td>13.0 - OS - ball</td>\n",
       "      <td>3.0 - FB - foul</td>\n",
       "      <td>3-2</td>\n",
       "    </tr>\n",
       "    <tr>\n",
       "      <th>54889</th>\n",
       "      <td>R</td>\n",
       "      <td>2</td>\n",
       "      <td>2</td>\n",
       "      <td>1</td>\n",
       "      <td>0</td>\n",
       "      <td>14.0 - FB - ball</td>\n",
       "      <td>14.0 - FB - ball</td>\n",
       "      <td>14.0 - OS - called</td>\n",
       "      <td>2-1</td>\n",
       "    </tr>\n",
       "    <tr>\n",
       "      <th>76823</th>\n",
       "      <td>L</td>\n",
       "      <td>1</td>\n",
       "      <td>1</td>\n",
       "      <td>0</td>\n",
       "      <td>0</td>\n",
       "      <td>13.0 - OS - foul</td>\n",
       "      <td>13.0 - OS - swinging</td>\n",
       "      <td>13.0 - OS - ball</td>\n",
       "      <td>2-2</td>\n",
       "    </tr>\n",
       "    <tr>\n",
       "      <th>860</th>\n",
       "      <td>L</td>\n",
       "      <td>1</td>\n",
       "      <td>2</td>\n",
       "      <td>0</td>\n",
       "      <td>0</td>\n",
       "      <td>8.0 - OS - foul</td>\n",
       "      <td>11.0 - FB - ball</td>\n",
       "      <td>13.0 - OS - ball</td>\n",
       "      <td>2-2</td>\n",
       "    </tr>\n",
       "    <tr>\n",
       "      <th>15796</th>\n",
       "      <td>R</td>\n",
       "      <td>1</td>\n",
       "      <td>2</td>\n",
       "      <td>0</td>\n",
       "      <td>0</td>\n",
       "      <td>12.0 - FB - ball</td>\n",
       "      <td>14.0 - OS - foul</td>\n",
       "      <td>4.0 - OS - called</td>\n",
       "      <td>1-2</td>\n",
       "    </tr>\n",
       "  </tbody>\n",
       "</table>\n",
       "<p>68866 rows × 9 columns</p>\n",
       "</div>"
      ],
      "text/plain": [
       "      stand  outs_when_up  times_faced  XBH  large_score_dif  \\\n",
       "40492     R             0            1    0                0   \n",
       "67903     R             2            2    0                0   \n",
       "6962      R             0            1    0                0   \n",
       "24251     L             0            2    0                0   \n",
       "31550     R             1            1    0                0   \n",
       "...     ...           ...          ...  ...              ...   \n",
       "6265      L             1            1    0                0   \n",
       "54889     R             2            2    1                0   \n",
       "76823     L             1            1    0                0   \n",
       "860       L             1            2    0                0   \n",
       "15796     R             1            2    0                0   \n",
       "\n",
       "               recent_pitch   second_recent_pitch  third_recent_pitch  \\\n",
       "40492      14.0 - FB - ball      11.0 - FB - foul   9.0 - FB - called   \n",
       "67903  13.0 - OS - swinging      13.0 - FB - ball   7.0 - FB - called   \n",
       "6962       14.0 - FB - ball      12.0 - FB - ball   6.0 - FB - called   \n",
       "24251      14.0 - FB - ball      14.0 - FB - ball    14.0 - OS - ball   \n",
       "31550      14.0 - OS - ball       8.0 - FB - ball     2.0 - FB - foul   \n",
       "...                     ...                   ...                 ...   \n",
       "6265       11.0 - FB - ball      13.0 - OS - ball     3.0 - FB - foul   \n",
       "54889      14.0 - FB - ball      14.0 - FB - ball  14.0 - OS - called   \n",
       "76823      13.0 - OS - foul  13.0 - OS - swinging    13.0 - OS - ball   \n",
       "860         8.0 - OS - foul      11.0 - FB - ball    13.0 - OS - ball   \n",
       "15796      12.0 - FB - ball      14.0 - OS - foul   4.0 - OS - called   \n",
       "\n",
       "      pitch_count  \n",
       "40492         1-2  \n",
       "67903         1-2  \n",
       "6962          2-1  \n",
       "24251         3-2  \n",
       "31550         2-1  \n",
       "...           ...  \n",
       "6265          3-2  \n",
       "54889         2-1  \n",
       "76823         2-2  \n",
       "860           2-2  \n",
       "15796         1-2  \n",
       "\n",
       "[68866 rows x 9 columns]"
      ]
     },
     "execution_count": 1484,
     "metadata": {},
     "output_type": "execute_result"
    }
   ],
   "source": [
    "X_train"
   ]
  },
  {
   "cell_type": "code",
   "execution_count": 1485,
   "metadata": {},
   "outputs": [],
   "source": [
    "pipe = Pipeline([('ct', preprocessor), ('dt', DecisionTreeClassifier())])"
   ]
  },
  {
   "cell_type": "code",
   "execution_count": 1486,
   "metadata": {
    "scrolled": true
   },
   "outputs": [
    {
     "data": {
      "text/plain": [
       "(68866, 9)"
      ]
     },
     "execution_count": 1486,
     "metadata": {},
     "output_type": "execute_result"
    }
   ],
   "source": [
    "X_train.shape"
   ]
  },
  {
   "cell_type": "code",
   "execution_count": 1487,
   "metadata": {},
   "outputs": [
    {
     "data": {
      "text/plain": [
       "0.9913309906194638"
      ]
     },
     "execution_count": 1487,
     "metadata": {},
     "output_type": "execute_result"
    }
   ],
   "source": [
    "pipe.fit(X_train, y_train)\n",
    "pipe.score(X_train, y_train)"
   ]
  },
  {
   "cell_type": "code",
   "execution_count": 1488,
   "metadata": {},
   "outputs": [],
   "source": [
    "from sklearn.model_selection import cross_val_score"
   ]
  },
  {
   "cell_type": "code",
   "execution_count": 1489,
   "metadata": {},
   "outputs": [],
   "source": [
    "#cross_val_score(pipe, X_train, y_train)"
   ]
  },
  {
   "cell_type": "code",
   "execution_count": 1490,
   "metadata": {},
   "outputs": [],
   "source": [
    "grid = {'dt__max_depth': [None, 5, 20, 30, 40, 50, 100], 'dt__min_samples_split': [2, 3, 4, 5], 'dt__min_samples_leaf': [1, 2, 3, 4]}"
   ]
  },
  {
   "cell_type": "code",
   "execution_count": 1491,
   "metadata": {},
   "outputs": [],
   "source": [
    "from sklearn.model_selection import GridSearchCV"
   ]
  },
  {
   "cell_type": "code",
   "execution_count": 1492,
   "metadata": {},
   "outputs": [],
   "source": [
    "#gs_pipe = GridSearchCV(estimator=pipe, param_grid=grid, verbose=2, cv = 3, n_jobs = 4)\n",
    "#gs_pipe.fit(X_train, y_train)"
   ]
  },
  {
   "cell_type": "code",
   "execution_count": 1493,
   "metadata": {},
   "outputs": [],
   "source": [
    "#gs_pipe.best_params_"
   ]
  },
  {
   "cell_type": "code",
   "execution_count": 1494,
   "metadata": {},
   "outputs": [],
   "source": [
    "#gs_pipe.best_score_"
   ]
  },
  {
   "cell_type": "code",
   "execution_count": 1495,
   "metadata": {},
   "outputs": [],
   "source": [
    "#gs_pipe.best_estimator_.score(X_train, y_train)"
   ]
  },
  {
   "cell_type": "code",
   "execution_count": 1496,
   "metadata": {},
   "outputs": [],
   "source": [
    "#gs_pipe.best_estimator_"
   ]
  },
  {
   "cell_type": "code",
   "execution_count": 1497,
   "metadata": {},
   "outputs": [],
   "source": [
    "#gs_pipe.best_estimator_.score(X_test, y_test)"
   ]
  },
  {
   "cell_type": "markdown",
   "metadata": {},
   "source": [
    "grid = {'dt__max_depth': [None, 20, 40, 60, 80, 100], \n",
    "        'dt__min_samples_split': [2, 3, 4, 5], \n",
    "        'dt__min_samples_leaf': [1, 2, 3, 4],\n",
    "        'dt_min_impurity_decrease': [0, 1, 2, 3, 4]}"
   ]
  },
  {
   "cell_type": "code",
   "execution_count": 1498,
   "metadata": {},
   "outputs": [],
   "source": [
    "from sklearn.ensemble import RandomForestClassifier"
   ]
  },
  {
   "cell_type": "code",
   "execution_count": 1509,
   "metadata": {},
   "outputs": [],
   "source": [
    "rf_pipe = Pipeline([('ct', preprocessor), ('rf', RandomForestClassifier(max_depth=400,\n",
    "    min_samples_split=15,\n",
    "    min_samples_leaf=16, n_estimators=80, random_state= 42))])"
   ]
  },
  {
   "cell_type": "code",
   "execution_count": 1500,
   "metadata": {},
   "outputs": [],
   "source": [
    "rf_grid = {'rf__max_depth': [400], 'rf__min_samples_split':  [15], 'rf__min_samples_leaf': [16, 18], 'rf__n_estimators': [80, 100, 110]}"
   ]
  },
  {
   "cell_type": "code",
   "execution_count": 1510,
   "metadata": {},
   "outputs": [
    {
     "data": {
      "text/plain": [
       "0.6318938227862806"
      ]
     },
     "execution_count": 1510,
     "metadata": {},
     "output_type": "execute_result"
    }
   ],
   "source": [
    "rf_pipe.fit(X_train, y_train)\n",
    "rf_pipe.score(X_train, y_train)"
   ]
  },
  {
   "cell_type": "code",
   "execution_count": 1511,
   "metadata": {
    "scrolled": true
   },
   "outputs": [
    {
     "data": {
      "text/plain": [
       "array([0.59278351, 0.59943367, 0.59544035, 0.5985624 , 0.59391563])"
      ]
     },
     "execution_count": 1511,
     "metadata": {},
     "output_type": "execute_result"
    }
   ],
   "source": [
    "cross_val_score(rf_pipe, X_train, y_train)"
   ]
  },
  {
   "cell_type": "code",
   "execution_count": 1503,
   "metadata": {
    "scrolled": true
   },
   "outputs": [],
   "source": [
    "gs_rf = GridSearchCV(estimator=rf_pipe, param_grid = rf_grid, n_jobs = 4, cv = 3, verbose = 2)"
   ]
  },
  {
   "cell_type": "code",
   "execution_count": 1504,
   "metadata": {
    "scrolled": false
   },
   "outputs": [
    {
     "name": "stdout",
     "output_type": "stream",
     "text": [
      "Fitting 3 folds for each of 6 candidates, totalling 18 fits\n"
     ]
    },
    {
     "name": "stderr",
     "output_type": "stream",
     "text": [
      "[Parallel(n_jobs=4)]: Using backend LokyBackend with 4 concurrent workers.\n",
      "[Parallel(n_jobs=4)]: Done  18 out of  18 | elapsed:   42.4s finished\n"
     ]
    },
    {
     "data": {
      "text/plain": [
       "GridSearchCV(cv=3,\n",
       "             estimator=Pipeline(steps=[('ct',\n",
       "                                        ColumnTransformer(remainder='passthrough',\n",
       "                                                          transformers=[('cat',\n",
       "                                                                         OneHotEncoder(drop='first',\n",
       "                                                                                       sparse=False),\n",
       "                                                                         [0, 1,\n",
       "                                                                          2, 3,\n",
       "                                                                          4, 5,\n",
       "                                                                          6, 7,\n",
       "                                                                          8])])),\n",
       "                                       ('rf',\n",
       "                                        RandomForestClassifier(max_depth=400,\n",
       "                                                               min_samples_leaf=18,\n",
       "                                                               min_samples_split=15,\n",
       "                                                               n_estimators=110,\n",
       "                                                               random_state=42))]),\n",
       "             n_jobs=4,\n",
       "             param_grid={'rf__max_depth': [400],\n",
       "                         'rf__min_samples_leaf': [16, 18],\n",
       "                         'rf__min_samples_split': [15],\n",
       "                         'rf__n_estimators': [80, 100, 110]},\n",
       "             verbose=2)"
      ]
     },
     "execution_count": 1504,
     "metadata": {},
     "output_type": "execute_result"
    }
   ],
   "source": [
    "gs_rf.fit(X_train, y_train)"
   ]
  },
  {
   "cell_type": "code",
   "execution_count": 1505,
   "metadata": {},
   "outputs": [
    {
     "data": {
      "text/plain": [
       "{'rf__max_depth': 400,\n",
       " 'rf__min_samples_leaf': 16,\n",
       " 'rf__min_samples_split': 15,\n",
       " 'rf__n_estimators': 80}"
      ]
     },
     "execution_count": 1505,
     "metadata": {},
     "output_type": "execute_result"
    }
   ],
   "source": [
    "gs_rf.best_params_"
   ]
  },
  {
   "cell_type": "code",
   "execution_count": 1506,
   "metadata": {},
   "outputs": [
    {
     "data": {
      "text/plain": [
       "0.5952429668027174"
      ]
     },
     "execution_count": 1506,
     "metadata": {},
     "output_type": "execute_result"
    }
   ],
   "source": [
    "gs_rf.best_score_"
   ]
  },
  {
   "cell_type": "code",
   "execution_count": 1507,
   "metadata": {},
   "outputs": [
    {
     "data": {
      "text/plain": [
       "0.6318938227862806"
      ]
     },
     "execution_count": 1507,
     "metadata": {},
     "output_type": "execute_result"
    }
   ],
   "source": [
    "gs_rf.best_estimator_.score(X_train, y_train)"
   ]
  },
  {
   "cell_type": "code",
   "execution_count": 1508,
   "metadata": {},
   "outputs": [
    {
     "data": {
      "text/plain": [
       "0.5916100365917407"
      ]
     },
     "execution_count": 1508,
     "metadata": {},
     "output_type": "execute_result"
    }
   ],
   "source": [
    "gs_rf.best_estimator_.score(X_test, y_test)"
   ]
  },
  {
   "cell_type": "code",
   "execution_count": 1461,
   "metadata": {
    "scrolled": true
   },
   "outputs": [
    {
     "data": {
      "text/plain": [
       "<sklearn.metrics._plot.confusion_matrix.ConfusionMatrixDisplay at 0x7fc6a85e01f0>"
      ]
     },
     "execution_count": 1461,
     "metadata": {},
     "output_type": "execute_result"
    },
    {
     "data": {
      "image/png": "[encoded data removed]",
      "text/plain": [
       "<Figure size 432x288 with 2 Axes>"
      ]
     },
     "metadata": {
      "needs_background": "light"
     },
     "output_type": "display_data"
    }
   ],
   "source": [
    "y_pred = rf_pipe.predict(X_test)\n",
    "cm = confusion_matrix(y_test, y_pred)\n",
    "ConfusionMatrixDisplay(cm, display_labels=rf_pipe.classes_).plot()"
   ]
  },
  {
   "cell_type": "code",
   "execution_count": null,
   "metadata": {},
   "outputs": [],
   "source": []
  }
 ],
 "metadata": {
  "kernelspec": {
   "display_name": "Python (learn-env)",
   "language": "python",
   "name": "learn-env"
  },
  "language_info": {
   "codemirror_mode": {
    "name": "ipython",
    "version": 3
   },
   "file_extension": ".py",
   "mimetype": "text/x-python",
   "name": "python",
   "nbconvert_exporter": "python",
   "pygments_lexer": "ipython3",
   "version": "3.8.5"
  }
 },
 "nbformat": 4,
 "nbformat_minor": 5
}

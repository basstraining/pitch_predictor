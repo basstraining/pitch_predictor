{
 "cells": [
  {
   "cell_type": "markdown",
   "metadata": {},
   "source": [
    "## Pitch Prediction Model"
   ]
  },
  {
   "cell_type": "markdown",
   "metadata": {},
   "source": [
    "Import necessary packages and modules"
   ]
  },
  {
   "cell_type": "code",
   "execution_count": 1,
   "metadata": {},
   "outputs": [],
   "source": [
    "import pandas as pd\n",
    "import numpy as np\n",
    "\n",
    "from sklearn.datasets import make_classification\n",
    "from sklearn.linear_model import LogisticRegression\n",
    "from sklearn.model_selection import train_test_split\n",
    "from sklearn.pipeline import Pipeline\n",
    "from sklearn.preprocessing import OneHotEncoder\n",
    "from sklearn.model_selection import cross_val_score\n",
    "from sklearn.tree import DecisionTreeClassifier"
   ]
  },
  {
   "cell_type": "markdown",
   "metadata": {},
   "source": [
    "### Data Cleaning and preprocessing\n",
    "- Read .csv file from data cleaning notebook"
   ]
  },
  {
   "cell_type": "code",
   "execution_count": 2,
   "metadata": {},
   "outputs": [],
   "source": [
    "df = pd.read_csv('data/final_dataset_modeling.csv', index_col=False)"
   ]
  },
  {
   "cell_type": "code",
   "execution_count": 3,
   "metadata": {},
   "outputs": [
    {
     "data": {
      "text/html": [
       "<div>\n",
       "<style scoped>\n",
       "    .dataframe tbody tr th:only-of-type {\n",
       "        vertical-align: middle;\n",
       "    }\n",
       "\n",
       "    .dataframe tbody tr th {\n",
       "        vertical-align: top;\n",
       "    }\n",
       "\n",
       "    .dataframe thead th {\n",
       "        text-align: right;\n",
       "    }\n",
       "</style>\n",
       "<table border=\"1\" class=\"dataframe\">\n",
       "  <thead>\n",
       "    <tr style=\"text-align: right;\">\n",
       "      <th></th>\n",
       "      <th>player_name</th>\n",
       "      <th>pitcher</th>\n",
       "      <th>batter</th>\n",
       "      <th>stand</th>\n",
       "      <th>pitch_type</th>\n",
       "      <th>pitch_number</th>\n",
       "      <th>outs_when_up</th>\n",
       "      <th>times_faced</th>\n",
       "      <th>XBH</th>\n",
       "      <th>large_score_dif</th>\n",
       "      <th>recent_pitch</th>\n",
       "      <th>second_recent_pitch</th>\n",
       "      <th>third_recent_pitch</th>\n",
       "      <th>pitch_count</th>\n",
       "    </tr>\n",
       "  </thead>\n",
       "  <tbody>\n",
       "    <tr>\n",
       "      <th>0</th>\n",
       "      <td>Rodriguez, Grayson</td>\n",
       "      <td>680570</td>\n",
       "      <td>543760</td>\n",
       "      <td>R</td>\n",
       "      <td>FB</td>\n",
       "      <td>4</td>\n",
       "      <td>0</td>\n",
       "      <td>1</td>\n",
       "      <td>0</td>\n",
       "      <td>0</td>\n",
       "      <td>14.0 - SL - ball</td>\n",
       "      <td>2.0 - FB - foul</td>\n",
       "      <td>14.0 - FB - ball</td>\n",
       "      <td>2-1</td>\n",
       "    </tr>\n",
       "    <tr>\n",
       "      <th>1</th>\n",
       "      <td>Rodriguez, Grayson</td>\n",
       "      <td>680570</td>\n",
       "      <td>543760</td>\n",
       "      <td>R</td>\n",
       "      <td>SL</td>\n",
       "      <td>5</td>\n",
       "      <td>0</td>\n",
       "      <td>1</td>\n",
       "      <td>0</td>\n",
       "      <td>0</td>\n",
       "      <td>9.0 - FB - called</td>\n",
       "      <td>14.0 - SL - ball</td>\n",
       "      <td>2.0 - FB - foul</td>\n",
       "      <td>2-2</td>\n",
       "    </tr>\n",
       "    <tr>\n",
       "      <th>2</th>\n",
       "      <td>Rodriguez, Grayson</td>\n",
       "      <td>680570</td>\n",
       "      <td>543760</td>\n",
       "      <td>R</td>\n",
       "      <td>FB</td>\n",
       "      <td>6</td>\n",
       "      <td>0</td>\n",
       "      <td>1</td>\n",
       "      <td>0</td>\n",
       "      <td>0</td>\n",
       "      <td>14.0 - SL - ball</td>\n",
       "      <td>9.0 - FB - called</td>\n",
       "      <td>14.0 - SL - ball</td>\n",
       "      <td>3-2</td>\n",
       "    </tr>\n",
       "    <tr>\n",
       "      <th>3</th>\n",
       "      <td>Rodriguez, Grayson</td>\n",
       "      <td>680570</td>\n",
       "      <td>608369</td>\n",
       "      <td>L</td>\n",
       "      <td>FB</td>\n",
       "      <td>4</td>\n",
       "      <td>0</td>\n",
       "      <td>1</td>\n",
       "      <td>0</td>\n",
       "      <td>0</td>\n",
       "      <td>14.0 - CH - ball</td>\n",
       "      <td>14.0 - CH - ball</td>\n",
       "      <td>4.0 - FB - called</td>\n",
       "      <td>2-1</td>\n",
       "    </tr>\n",
       "    <tr>\n",
       "      <th>4</th>\n",
       "      <td>Rodriguez, Grayson</td>\n",
       "      <td>680570</td>\n",
       "      <td>608369</td>\n",
       "      <td>L</td>\n",
       "      <td>CH</td>\n",
       "      <td>5</td>\n",
       "      <td>0</td>\n",
       "      <td>1</td>\n",
       "      <td>0</td>\n",
       "      <td>0</td>\n",
       "      <td>3.0 - FB - foul</td>\n",
       "      <td>14.0 - CH - ball</td>\n",
       "      <td>14.0 - CH - ball</td>\n",
       "      <td>2-2</td>\n",
       "    </tr>\n",
       "  </tbody>\n",
       "</table>\n",
       "</div>"
      ],
      "text/plain": [
       "          player_name  pitcher  batter stand pitch_type  pitch_number  \\\n",
       "0  Rodriguez, Grayson   680570  543760     R         FB             4   \n",
       "1  Rodriguez, Grayson   680570  543760     R         SL             5   \n",
       "2  Rodriguez, Grayson   680570  543760     R         FB             6   \n",
       "3  Rodriguez, Grayson   680570  608369     L         FB             4   \n",
       "4  Rodriguez, Grayson   680570  608369     L         CH             5   \n",
       "\n",
       "   outs_when_up  times_faced  XBH  large_score_dif       recent_pitch  \\\n",
       "0             0            1    0                0   14.0 - SL - ball   \n",
       "1             0            1    0                0  9.0 - FB - called   \n",
       "2             0            1    0                0   14.0 - SL - ball   \n",
       "3             0            1    0                0   14.0 - CH - ball   \n",
       "4             0            1    0                0    3.0 - FB - foul   \n",
       "\n",
       "  second_recent_pitch third_recent_pitch pitch_count  \n",
       "0     2.0 - FB - foul   14.0 - FB - ball         2-1  \n",
       "1    14.0 - SL - ball    2.0 - FB - foul         2-2  \n",
       "2   9.0 - FB - called   14.0 - SL - ball         3-2  \n",
       "3    14.0 - CH - ball  4.0 - FB - called         2-1  \n",
       "4    14.0 - CH - ball   14.0 - CH - ball         2-2  "
      ]
     },
     "execution_count": 3,
     "metadata": {},
     "output_type": "execute_result"
    }
   ],
   "source": [
    "df.head()"
   ]
  },
  {
   "cell_type": "markdown",
   "metadata": {},
   "source": [
    "- Dropping any specific data point that may be causing issues, 4-2 is not a valid `pitch_count` for our dataset"
   ]
  },
  {
   "cell_type": "code",
   "execution_count": 4,
   "metadata": {},
   "outputs": [],
   "source": [
    "df_bi = df.drop(df[df['pitch_count'] == '4-2'].index)"
   ]
  },
  {
   "cell_type": "markdown",
   "metadata": {},
   "source": [
    "- Remove any null values"
   ]
  },
  {
   "cell_type": "code",
   "execution_count": 5,
   "metadata": {},
   "outputs": [],
   "source": [
    "df_bi.dropna(axis=0, inplace=True)"
   ]
  },
  {
   "cell_type": "code",
   "execution_count": 6,
   "metadata": {},
   "outputs": [
    {
     "data": {
      "text/plain": [
       "player_name            0\n",
       "pitcher                0\n",
       "batter                 0\n",
       "stand                  0\n",
       "pitch_type             0\n",
       "pitch_number           0\n",
       "outs_when_up           0\n",
       "times_faced            0\n",
       "XBH                    0\n",
       "large_score_dif        0\n",
       "recent_pitch           0\n",
       "second_recent_pitch    0\n",
       "third_recent_pitch     0\n",
       "pitch_count            0\n",
       "dtype: int64"
      ]
     },
     "execution_count": 6,
     "metadata": {},
     "output_type": "execute_result"
    }
   ],
   "source": [
    "#Sanity Check\n",
    "df_bi.isna().sum()"
   ]
  },
  {
   "cell_type": "markdown",
   "metadata": {},
   "source": [
    "Our multiclass dataset with 4 different pitch types was quite imbalanced. We made the decision to convert our data to binary classes and this ended up making our dataset much more balanced for modeling. \n",
    "\n",
    "We opted out of using synthetic data manipluation techniques like SMOTE because directly applying it to baseball pitch data could give misleading and counterproductive results. The synthetic samples generated by SMOTE don't take into account domain-specific constraints. For example, certain pitch combinations of velocity, break and location may be physically impossible for a pitcher to throw. The interpolated examples could introduce nonsensical pitches. More domain-aware techniques would likely be preferable.\n",
    "\n",
    "We will instead go from multiclass classification to binary classification and use feature engineering with pipelines."
   ]
  },
  {
   "cell_type": "markdown",
   "metadata": {},
   "source": [
    "### First we will define functions to convert pitch_type from multiclass to binary classes!"
   ]
  },
  {
   "cell_type": "code",
   "execution_count": 7,
   "metadata": {},
   "outputs": [],
   "source": [
    "def transform_pitch_types(column):\n",
    "    \"\"\"\n",
    "    Transform specific pitch types in a column to 'OS'.\n",
    "    'SL', 'CH', 'CB' are changed to 'OS', other values are left unchanged.\n",
    "\n",
    "    Args:\n",
    "    column (pd.Series): A pandas Series representing the column to be transformed.\n",
    "\n",
    "    Returns:\n",
    "    pd.Series: The transformed column.\n",
    "    \"\"\"\n",
    "    # Mapping specific pitch types to 'OS'\n",
    "    pitch_map = {'SL': 'OS', 'CH': 'OS', 'CB': 'OS'}\n",
    "\n",
    "    # Using the map function to apply the transformation\n",
    "    return column.map(lambda x: pitch_map.get(x, x))"
   ]
  },
  {
   "cell_type": "code",
   "execution_count": 8,
   "metadata": {},
   "outputs": [],
   "source": [
    "def transform_pitch_types_in_string(column):\n",
    "    \"\"\"\n",
    "    Transform specific substrings in a column to 'OS'.\n",
    "    Substrings 'SL', 'CH', 'CB' are changed to 'OS', other parts of the string are left unchanged.\n",
    "\n",
    "    Args:\n",
    "    column (pd.Series): A pandas Series representing the column to be transformed.\n",
    "\n",
    "    Returns:\n",
    "    pd.Series: The transformed column.\n",
    "    \"\"\"\n",
    "    def replace_substring(pitch):\n",
    "        # Replace specific substrings with 'OS'\n",
    "        for sub in ['SL', 'CH', 'CB']:\n",
    "            pitch = pitch.replace(sub, 'OS')\n",
    "        return pitch\n",
    "\n",
    "    return column.apply(replace_substring)"
   ]
  },
  {
   "cell_type": "markdown",
   "metadata": {},
   "source": [
    "- Making a new copy of the data before setting target and features"
   ]
  },
  {
   "cell_type": "code",
   "execution_count": 9,
   "metadata": {},
   "outputs": [],
   "source": [
    "df_bi_clean = df_bi.copy()\n",
    "df_bi_clean['pitch_type'] = transform_pitch_types(df_bi_clean['pitch_type'])\n",
    "df_bi_clean['recent_pitch'] = transform_pitch_types_in_string(df_bi_clean['recent_pitch'])\n",
    "df_bi_clean['second_recent_pitch'] = transform_pitch_types_in_string(df_bi_clean['second_recent_pitch'])\n",
    "df_bi_clean['third_recent_pitch'] = transform_pitch_types_in_string(df_bi_clean['third_recent_pitch'])"
   ]
  },
  {
   "cell_type": "markdown",
   "metadata": {},
   "source": [
    "- Data for `pitch_type` column should now be split into binary classes, **FB** for fastball **OS** for offspeed."
   ]
  },
  {
   "cell_type": "code",
   "execution_count": 10,
   "metadata": {},
   "outputs": [
    {
     "data": {
      "text/html": [
       "<div>\n",
       "<style scoped>\n",
       "    .dataframe tbody tr th:only-of-type {\n",
       "        vertical-align: middle;\n",
       "    }\n",
       "\n",
       "    .dataframe tbody tr th {\n",
       "        vertical-align: top;\n",
       "    }\n",
       "\n",
       "    .dataframe thead th {\n",
       "        text-align: right;\n",
       "    }\n",
       "</style>\n",
       "<table border=\"1\" class=\"dataframe\">\n",
       "  <thead>\n",
       "    <tr style=\"text-align: right;\">\n",
       "      <th></th>\n",
       "      <th>player_name</th>\n",
       "      <th>pitcher</th>\n",
       "      <th>batter</th>\n",
       "      <th>stand</th>\n",
       "      <th>pitch_type</th>\n",
       "      <th>pitch_number</th>\n",
       "      <th>outs_when_up</th>\n",
       "      <th>times_faced</th>\n",
       "      <th>XBH</th>\n",
       "      <th>large_score_dif</th>\n",
       "      <th>recent_pitch</th>\n",
       "      <th>second_recent_pitch</th>\n",
       "      <th>third_recent_pitch</th>\n",
       "      <th>pitch_count</th>\n",
       "    </tr>\n",
       "  </thead>\n",
       "  <tbody>\n",
       "    <tr>\n",
       "      <th>0</th>\n",
       "      <td>Rodriguez, Grayson</td>\n",
       "      <td>680570</td>\n",
       "      <td>543760</td>\n",
       "      <td>R</td>\n",
       "      <td>FB</td>\n",
       "      <td>4</td>\n",
       "      <td>0</td>\n",
       "      <td>1</td>\n",
       "      <td>0</td>\n",
       "      <td>0</td>\n",
       "      <td>14.0 - OS - ball</td>\n",
       "      <td>2.0 - FB - foul</td>\n",
       "      <td>14.0 - FB - ball</td>\n",
       "      <td>2-1</td>\n",
       "    </tr>\n",
       "    <tr>\n",
       "      <th>1</th>\n",
       "      <td>Rodriguez, Grayson</td>\n",
       "      <td>680570</td>\n",
       "      <td>543760</td>\n",
       "      <td>R</td>\n",
       "      <td>OS</td>\n",
       "      <td>5</td>\n",
       "      <td>0</td>\n",
       "      <td>1</td>\n",
       "      <td>0</td>\n",
       "      <td>0</td>\n",
       "      <td>9.0 - FB - called</td>\n",
       "      <td>14.0 - OS - ball</td>\n",
       "      <td>2.0 - FB - foul</td>\n",
       "      <td>2-2</td>\n",
       "    </tr>\n",
       "    <tr>\n",
       "      <th>2</th>\n",
       "      <td>Rodriguez, Grayson</td>\n",
       "      <td>680570</td>\n",
       "      <td>543760</td>\n",
       "      <td>R</td>\n",
       "      <td>FB</td>\n",
       "      <td>6</td>\n",
       "      <td>0</td>\n",
       "      <td>1</td>\n",
       "      <td>0</td>\n",
       "      <td>0</td>\n",
       "      <td>14.0 - OS - ball</td>\n",
       "      <td>9.0 - FB - called</td>\n",
       "      <td>14.0 - OS - ball</td>\n",
       "      <td>3-2</td>\n",
       "    </tr>\n",
       "    <tr>\n",
       "      <th>3</th>\n",
       "      <td>Rodriguez, Grayson</td>\n",
       "      <td>680570</td>\n",
       "      <td>608369</td>\n",
       "      <td>L</td>\n",
       "      <td>FB</td>\n",
       "      <td>4</td>\n",
       "      <td>0</td>\n",
       "      <td>1</td>\n",
       "      <td>0</td>\n",
       "      <td>0</td>\n",
       "      <td>14.0 - OS - ball</td>\n",
       "      <td>14.0 - OS - ball</td>\n",
       "      <td>4.0 - FB - called</td>\n",
       "      <td>2-1</td>\n",
       "    </tr>\n",
       "    <tr>\n",
       "      <th>4</th>\n",
       "      <td>Rodriguez, Grayson</td>\n",
       "      <td>680570</td>\n",
       "      <td>608369</td>\n",
       "      <td>L</td>\n",
       "      <td>OS</td>\n",
       "      <td>5</td>\n",
       "      <td>0</td>\n",
       "      <td>1</td>\n",
       "      <td>0</td>\n",
       "      <td>0</td>\n",
       "      <td>3.0 - FB - foul</td>\n",
       "      <td>14.0 - OS - ball</td>\n",
       "      <td>14.0 - OS - ball</td>\n",
       "      <td>2-2</td>\n",
       "    </tr>\n",
       "  </tbody>\n",
       "</table>\n",
       "</div>"
      ],
      "text/plain": [
       "          player_name  pitcher  batter stand pitch_type  pitch_number  \\\n",
       "0  Rodriguez, Grayson   680570  543760     R         FB             4   \n",
       "1  Rodriguez, Grayson   680570  543760     R         OS             5   \n",
       "2  Rodriguez, Grayson   680570  543760     R         FB             6   \n",
       "3  Rodriguez, Grayson   680570  608369     L         FB             4   \n",
       "4  Rodriguez, Grayson   680570  608369     L         OS             5   \n",
       "\n",
       "   outs_when_up  times_faced  XBH  large_score_dif       recent_pitch  \\\n",
       "0             0            1    0                0   14.0 - OS - ball   \n",
       "1             0            1    0                0  9.0 - FB - called   \n",
       "2             0            1    0                0   14.0 - OS - ball   \n",
       "3             0            1    0                0   14.0 - OS - ball   \n",
       "4             0            1    0                0    3.0 - FB - foul   \n",
       "\n",
       "  second_recent_pitch third_recent_pitch pitch_count  \n",
       "0     2.0 - FB - foul   14.0 - FB - ball         2-1  \n",
       "1    14.0 - OS - ball    2.0 - FB - foul         2-2  \n",
       "2   9.0 - FB - called   14.0 - OS - ball         3-2  \n",
       "3    14.0 - OS - ball  4.0 - FB - called         2-1  \n",
       "4    14.0 - OS - ball   14.0 - OS - ball         2-2  "
      ]
     },
     "execution_count": 10,
     "metadata": {},
     "output_type": "execute_result"
    }
   ],
   "source": [
    "#Sanity Check\n",
    "df_bi_clean.head()"
   ]
  },
  {
   "cell_type": "markdown",
   "metadata": {},
   "source": [
    "#### Set target variable and columns to include before training and splitting the data"
   ]
  },
  {
   "cell_type": "code",
   "execution_count": 11,
   "metadata": {},
   "outputs": [],
   "source": [
    "# X contains the features\n",
    "# y contains the target\n",
    "\n",
    "X = df_bi_clean.drop(columns=['player_name', 'pitcher', 'batter', 'pitch_type', 'pitch_number'])\n",
    "y = df_bi_clean['pitch_type']"
   ]
  },
  {
   "cell_type": "markdown",
   "metadata": {},
   "source": [
    "#### Initialize OneHotEncoder and perform `train_test_split`\n",
    "- The `OneHotEncoder` converts categorical features into one-hot encoded features\n",
    "- `sparse=False` means return a numpy array instead of a sparse matrix\n",
    "- `handle_unknown='error'` will raise an error if the dataset contains a categorical value that was not seen in the training data\n",
    "- `drop='first'` will drop the first category for each feature to avoid collinearity"
   ]
  },
  {
   "cell_type": "code",
   "execution_count": 12,
   "metadata": {},
   "outputs": [],
   "source": [
    "# Initialize OneHotEncoder\n",
    "ohe = OneHotEncoder(sparse=False, handle_unknown='error', drop='first')\n",
    "\n",
    "# Split the encoded data into training and testing sets\n",
    "X_train, X_test, y_train, y_test = train_test_split(X, y, random_state=42)"
   ]
  },
  {
   "cell_type": "markdown",
   "metadata": {},
   "source": [
    "### Create dummy model\n",
    "- We will use a dummy baseline model to compare the results to our final model."
   ]
  },
  {
   "cell_type": "code",
   "execution_count": 13,
   "metadata": {},
   "outputs": [],
   "source": [
    "from sklearn.dummy import DummyClassifier\n",
    "\n",
    "dc = DummyClassifier(strategy='most_frequent')"
   ]
  },
  {
   "cell_type": "code",
   "execution_count": 14,
   "metadata": {},
   "outputs": [
    {
     "data": {
      "text/plain": [
       "DummyClassifier(strategy='most_frequent')"
      ]
     },
     "execution_count": 14,
     "metadata": {},
     "output_type": "execute_result"
    }
   ],
   "source": [
    "# fit dummy model\n",
    "dc.fit(X_train, y_train)"
   ]
  },
  {
   "cell_type": "code",
   "execution_count": 15,
   "metadata": {},
   "outputs": [
    {
     "data": {
      "text/plain": [
       "0.540991461927165"
      ]
     },
     "execution_count": 15,
     "metadata": {},
     "output_type": "execute_result"
    }
   ],
   "source": [
    "#Score for dummy model\n",
    "dc.score(X_test, y_test)"
   ]
  },
  {
   "cell_type": "markdown",
   "metadata": {},
   "source": [
    "We need to create a `ColumnTransformer` to encode all categorical columns before we create pipeline for Modeling and Evaluation. The end result is the categorical columns are one-hot encoded, and the other columns are left as-is.\n",
    "\n",
    "The ColumnTransformer allows us to specify different transformers to different columns, handling both categorical and numerical data."
   ]
  },
  {
   "cell_type": "code",
   "execution_count": 16,
   "metadata": {},
   "outputs": [],
   "source": [
    "from sklearn.compose import ColumnTransformer\n",
    "\n",
    "# Create a column transformer to apply encoding only to the categorical columns\n",
    "preprocessor = ColumnTransformer(transformers=\n",
    "                                 [('cat', ohe, [0, 1, 2, 3, 4, 5, 6, 7, 8])],\n",
    "                                 remainder='passthrough')"
   ]
  },
  {
   "cell_type": "code",
   "execution_count": 17,
   "metadata": {},
   "outputs": [
    {
     "data": {
      "text/plain": [
       "(68866, 333)"
      ]
     },
     "execution_count": 17,
     "metadata": {},
     "output_type": "execute_result"
    }
   ],
   "source": [
    "preprocessor.fit(X_train)\n",
    "\n",
    "preprocessor.transform(X_train).shape"
   ]
  },
  {
   "cell_type": "code",
   "execution_count": 18,
   "metadata": {},
   "outputs": [],
   "source": [
    "X_train_transformed = preprocessor.transform(X_train)"
   ]
  },
  {
   "cell_type": "code",
   "execution_count": 18,
   "metadata": {},
   "outputs": [
    {
     "data": {
      "text/plain": [
       "(22956, 333)"
      ]
     },
     "execution_count": 18,
     "metadata": {},
     "output_type": "execute_result"
    }
   ],
   "source": [
    "preprocessor.transform(X_test).shape"
   ]
  },
  {
   "cell_type": "markdown",
   "metadata": {},
   "source": [
    "### Pipeline\n",
    "- We will create a pipeline for **MLPClassifier**, a neural network from sklearn. MLPClassifier known as the Multi-layer Perceptron classifier is useful for classification tasks for data that contain nonlinear relationships."
   ]
  },
  {
   "cell_type": "code",
   "execution_count": 20,
   "metadata": {},
   "outputs": [],
   "source": [
    "from sklearn.neural_network import MLPClassifier\n",
    "\n",
    "#Build pipeline to train MLP\n",
    "pipe = Pipeline([('ct', preprocessor), ('mlp', MLPClassifier())])"
   ]
  },
  {
   "cell_type": "markdown",
   "metadata": {},
   "source": [
    "- We opted to use `RandomizedSearchCV` here instead of `GridSearchCV` that we used in our other training runs. Random search will look for the best hyperparameters that we set in the `param_distribution` dictionary. MLPclassifier has hidden layers that we can't really interpret but we use the funnel stucture with 3 layers that starts and end with smallest layers eg. (10, 30, 10)"
   ]
  },
  {
   "cell_type": "markdown",
   "metadata": {},
   "source": [
    "- `RandomizedSearchCV` which will implement the fit and score method. The hyper parameters like the solver  **'sgd'** is an optimized version of gradient descent known as stochastic gradient descent.\n",
    "- Cross Validation will be done in 5 folds and `randome_state=42` to maintain consistency throughout our process."
   ]
  },
  {
   "cell_type": "code",
   "execution_count": 21,
   "metadata": {},
   "outputs": [
    {
     "name": "stdout",
     "output_type": "stream",
     "text": [
      "Fitting 5 folds for each of 24 candidates, totalling 120 fits\n"
     ]
    },
    {
     "name": "stderr",
     "output_type": "stream",
     "text": [
      "/home/dreampy/anaconda3/envs/learn-env/lib/python3.8/site-packages/sklearn/model_selection/_search.py:278: UserWarning: The total space of parameters 24 is smaller than n_iter=50. Running 24 iterations. For exhaustive searches, use GridSearchCV.\n",
      "  warnings.warn(\n",
      "[Parallel(n_jobs=-1)]: Using backend LokyBackend with 24 concurrent workers.\n",
      "[Parallel(n_jobs=-1)]: Done 114 out of 120 | elapsed:  7.9min remaining:   25.0s\n",
      "[Parallel(n_jobs=-1)]: Done 120 out of 120 | elapsed:  8.2min finished\n",
      "/home/dreampy/anaconda3/envs/learn-env/lib/python3.8/site-packages/sklearn/neural_network/_multilayer_perceptron.py:582: ConvergenceWarning: Stochastic Optimizer: Maximum iterations (200) reached and the optimization hasn't converged yet.\n",
      "  warnings.warn(\n"
     ]
    },
    {
     "data": {
      "text/plain": [
       "RandomizedSearchCV(cv=5,\n",
       "                   estimator=Pipeline(steps=[('ct',\n",
       "                                              ColumnTransformer(remainder='passthrough',\n",
       "                                                                transformers=[('cat',\n",
       "                                                                               OneHotEncoder(drop='first',\n",
       "                                                                                             sparse=False),\n",
       "                                                                               [0,\n",
       "                                                                                1,\n",
       "                                                                                2,\n",
       "                                                                                3,\n",
       "                                                                                4,\n",
       "                                                                                5,\n",
       "                                                                                6,\n",
       "                                                                                7,\n",
       "                                                                                8])])),\n",
       "                                             ('mlp', MLPClassifier())]),\n",
       "                   n_iter=50, n_jobs=-1,\n",
       "                   param_distributions={'mlp__activation': ['relu', 'tanh'],\n",
       "                                        'mlp__alpha': [0.0001, 0.001],\n",
       "                                        'mlp__hidden_layer_sizes': [(10, 30,\n",
       "                                                                     10),\n",
       "                                                                    (50, 100,\n",
       "                                                                     50)],\n",
       "                                        'mlp__solver': ['sgd'],\n",
       "                                        'mlp__tol': [0.0001, 1e-05, 1e-06]},\n",
       "                   random_state=42, verbose=3)"
      ]
     },
     "execution_count": 21,
     "metadata": {},
     "output_type": "execute_result"
    }
   ],
   "source": [
    "from sklearn.model_selection import RandomizedSearchCV\n",
    "\n",
    "# Define the parameter distribution\n",
    "param_dist = {\n",
    "    'mlp__hidden_layer_sizes': [(10,30,10), (50,100,50)],\n",
    "    'mlp__activation': ['relu', 'tanh'],\n",
    "    'mlp__solver': ['sgd'],\n",
    "    'mlp__alpha': [0.0001, .001],\n",
    "    'mlp__tol': [1e-4, 1e-5, 1e-6]\n",
    "}\n",
    "\n",
    "# Create a RandomizedSearchCV object\n",
    "clf = RandomizedSearchCV(estimator=pipe, param_distributions=param_dist, n_iter=50, verbose=3, cv=5, random_state=42, n_jobs=-1)\n",
    "\n",
    "# Fit the model\n",
    "clf.fit(X_train, y_train)"
   ]
  },
  {
   "cell_type": "code",
   "execution_count": 22,
   "metadata": {},
   "outputs": [
    {
     "name": "stdout",
     "output_type": "stream",
     "text": [
      "Best Parameters: {'mlp__tol': 1e-05, 'mlp__solver': 'sgd', 'mlp__hidden_layer_sizes': (10, 30, 10), 'mlp__alpha': 0.0001, 'mlp__activation': 'relu'}\n",
      "Best Score: 0.6007319398602816\n"
     ]
    }
   ],
   "source": [
    "# Print the best parameters and score\n",
    "best_parameters = clf.best_params_\n",
    "best_score = clf.best_score_\n",
    "\n",
    "print(f\"Best Parameters: {best_parameters}\")\n",
    "print(f\"Best Score: {best_score}\")"
   ]
  },
  {
   "cell_type": "markdown",
   "metadata": {},
   "source": [
    "- Generate `classification_report` we are looking at **accuracy** here for our pitch predicition. "
   ]
  },
  {
   "cell_type": "code",
   "execution_count": 23,
   "metadata": {
    "scrolled": true
   },
   "outputs": [],
   "source": [
    "from sklearn.metrics import classification_report\n",
    "\n",
    "# Step 2: Make Predictions\n",
    "y_pred = clf.predict(X_test)\n",
    "\n",
    "# Step 3: Generate Classification Report\n",
    "report = classification_report(y_test, y_pred)"
   ]
  },
  {
   "cell_type": "markdown",
   "metadata": {},
   "source": [
    "The **accuracy** in our report is 0.60, meaning that the model correctly predicts the pitch type 60% of the time across both classes ont the test data.\n",
    "\n",
    "The reason why accuracy might be considered most important in this context could be due to the nature of evaluating baseball pitches. If you're analyzing pitches in a game situation, we would want to know, in a general sense, how often you can expect the model to correctly identify a pitch. Higher accuracy means that the model's predictions are more often correct, which is crucial for applications like real-time decision-making during a game or analyzing a pitcher's tendencies."
   ]
  },
  {
   "cell_type": "markdown",
   "metadata": {},
   "source": [
    "Assuming that fastballs are the positive class, we had a lower precision and higher recall score for fastballs. But for offspeed pitches precision had a higher score than recall."
   ]
  },
  {
   "cell_type": "code",
   "execution_count": 24,
   "metadata": {},
   "outputs": [
    {
     "name": "stdout",
     "output_type": "stream",
     "text": [
      "              precision    recall  f1-score   support\n",
      "\n",
      "          FB       0.64      0.60      0.62     12419\n",
      "          OS       0.56      0.59      0.58     10537\n",
      "\n",
      "    accuracy                           0.60     22956\n",
      "   macro avg       0.60      0.60      0.60     22956\n",
      "weighted avg       0.60      0.60      0.60     22956\n",
      "\n"
     ]
    }
   ],
   "source": [
    "print(report)"
   ]
  },
  {
   "cell_type": "markdown",
   "metadata": {},
   "source": [
    "### Display `ConfusionMatrix`"
   ]
  },
  {
   "cell_type": "markdown",
   "metadata": {},
   "source": [
    "- We display a confusion matrix to display the results between our predictions"
   ]
  },
  {
   "cell_type": "code",
   "execution_count": 25,
   "metadata": {},
   "outputs": [
    {
     "data": {
      "image/png": "[encoded data removed]",
      "text/plain": [
       "<Figure size 432x288 with 2 Axes>"
      ]
     },
     "metadata": {
      "needs_background": "light"
     },
     "output_type": "display_data"
    }
   ],
   "source": [
    "from sklearn.metrics import ConfusionMatrixDisplay, confusion_matrix\n",
    "\n",
    "# Make predictions\n",
    "y_pred = clf.predict(X_test)\n",
    "\n",
    "# Generate the confusion matrix\n",
    "cm = confusion_matrix(y_test, y_pred)\n",
    "\n",
    "# Display the confusion matrix\n",
    "cm_display = ConfusionMatrixDisplay(cm, display_labels=clf.classes_).plot()"
   ]
  },
  {
   "cell_type": "markdown",
   "metadata": {},
   "source": [
    "### ROC curve and roc_auc score evaluating our tpr (true positive rate) and fpr (false positive rate)"
   ]
  },
  {
   "cell_type": "code",
   "execution_count": 33,
   "metadata": {},
   "outputs": [
    {
     "name": "stdout",
     "output_type": "stream",
     "text": [
      "ROC AUC Score: 0.6404586851391494\n"
     ]
    }
   ],
   "source": [
    "from sklearn.metrics import roc_auc_score\n",
    "\n",
    "# Print ROC AUC Score\n",
    "roc_auc = roc_auc_score(y_test, y_score)\n",
    "\n",
    "print(f\"ROC AUC Score: {roc_auc}\")"
   ]
  },
  {
   "cell_type": "code",
   "execution_count": 26,
   "metadata": {},
   "outputs": [
    {
     "data": {
      "image/png": "[encoded data removed]",
      "text/plain": [
       "<Figure size 432x288 with 1 Axes>"
      ]
     },
     "metadata": {
      "needs_background": "light"
     },
     "output_type": "display_data"
    }
   ],
   "source": [
    "from sklearn.metrics import RocCurveDisplay, roc_curve\n",
    "\n",
    "# clf is our classifier and it supports predict_proba()\n",
    "y_score = clf.predict_proba(X_test)[:, 1]  # Get the probabilities for the positive class\n",
    "\n",
    "# Compute and plot the ROC curve\n",
    "fpr, tpr, _ = roc_curve(y_test, y_score, pos_label=clf.classes_[1])\n",
    "roc_display = RocCurveDisplay(fpr=fpr, tpr=tpr).plot()"
   ]
  },
  {
   "cell_type": "markdown",
   "metadata": {},
   "source": [
    "Looking at the provided ROC curve, it rises fairly quickly towards the top-left corner, which suggests that the model has a good measure of separability. It does not reach close to the perfect score, but it appears to perform better than a random guess (which would be a diagonal line from the bottom left to the top right). ROC AUC Score: 0.6404586851391494 which suggest there is room for improvement."
   ]
  },
  {
   "cell_type": "code",
   "execution_count": 21,
   "metadata": {},
   "outputs": [],
   "source": [
    "from sklearn.ensemble import RandomForestClassifier\n",
    "from sklearn.model_selection import GridSearchCV"
   ]
  },
  {
   "cell_type": "markdown",
   "metadata": {},
   "source": [
    "### Pipeline to pull out features using RandomForestClassifier\n",
    "- Because we are unable to pull features from the neural network we will create another pipeline using another machine learning model that we had previously trained with our multiclass dataset. \n",
    "- This time we will run a `GridSearchCV` where we can be more thorough to iterate through to search for hyperparameters"
   ]
  },
  {
   "cell_type": "code",
   "execution_count": 28,
   "metadata": {},
   "outputs": [],
   "source": [
    "rf_pipe = Pipeline([('ct', preprocessor), ('rf', RandomForestClassifier())])"
   ]
  },
  {
   "cell_type": "code",
   "execution_count": 29,
   "metadata": {},
   "outputs": [],
   "source": [
    "grid_search_rf = {'rf__max_depth': [None, 25, 35],\n",
    "       'rf__class_weight': ['balanced', 'balanced_subsample']}"
   ]
  },
  {
   "cell_type": "code",
   "execution_count": 30,
   "metadata": {},
   "outputs": [
    {
     "name": "stdout",
     "output_type": "stream",
     "text": [
      "Fitting 5 folds for each of 6 candidates, totalling 30 fits\n"
     ]
    },
    {
     "name": "stderr",
     "output_type": "stream",
     "text": [
      "[Parallel(n_jobs=-1)]: Using backend LokyBackend with 24 concurrent workers.\n",
      "[Parallel(n_jobs=-1)]: Done   5 out of  30 | elapsed:   26.7s remaining:  2.2min\n",
      "[Parallel(n_jobs=-1)]: Done  16 out of  30 | elapsed:   34.0s remaining:   29.7s\n",
      "[Parallel(n_jobs=-1)]: Done  27 out of  30 | elapsed:   39.0s remaining:    4.3s\n",
      "[Parallel(n_jobs=-1)]: Done  30 out of  30 | elapsed:   39.9s finished\n"
     ]
    },
    {
     "data": {
      "text/plain": [
       "GridSearchCV(estimator=Pipeline(steps=[('ct',\n",
       "                                        ColumnTransformer(remainder='passthrough',\n",
       "                                                          transformers=[('cat',\n",
       "                                                                         OneHotEncoder(drop='first',\n",
       "                                                                                       sparse=False),\n",
       "                                                                         [0, 1,\n",
       "                                                                          2, 3,\n",
       "                                                                          4, 5,\n",
       "                                                                          6, 7,\n",
       "                                                                          8])])),\n",
       "                                       ('rf', RandomForestClassifier())]),\n",
       "             n_jobs=-1,\n",
       "             param_grid={'rf__class_weight': ['balanced', 'balanced_subsample'],\n",
       "                         'rf__max_depth': [None, 25, 35]},\n",
       "             verbose=3)"
      ]
     },
     "execution_count": 30,
     "metadata": {},
     "output_type": "execute_result"
    }
   ],
   "source": [
    "rf_pipe = GridSearchCV(estimator=rf_pipe, param_grid=grid_search_rf, verbose=3, n_jobs=-1)\n",
    "rf_pipe.fit(X_train, y_train)"
   ]
  },
  {
   "cell_type": "markdown",
   "metadata": {},
   "source": [
    "### Pulling top 20 feature importances out of our model"
   ]
  },
  {
   "cell_type": "code",
   "execution_count": 34,
   "metadata": {},
   "outputs": [
    {
     "data": {
      "image/png": "[encoded data removed]",
      "text/plain": [
       "<Figure size 1440x864 with 1 Axes>"
      ]
     },
     "metadata": {
      "needs_background": "light"
     },
     "output_type": "display_data"
    },
    {
     "data": {
      "text/plain": [
       "<Figure size 432x288 with 0 Axes>"
      ]
     },
     "metadata": {},
     "output_type": "display_data"
    }
   ],
   "source": [
    "import matplotlib.pyplot as plt\n",
    "import pandas as pd\n",
    "\n",
    "# rf_pipe is trained GridSearchCV object\n",
    "best_rf = rf_pipe.best_estimator_\n",
    "\n",
    "# Access the ColumnTransformer from the pipeline\n",
    "column_transformer = best_rf.named_steps['ct']\n",
    "\n",
    "# Get the feature names after one-hot encoding and any 'passthrough' features\n",
    "encoded_feature_names = column_transformer.get_feature_names()\n",
    "\n",
    "# Extract feature importances\n",
    "importances = best_rf.named_steps['rf'].feature_importances_\n",
    "\n",
    "# Create a pandas Series with the importances and encoded feature names\n",
    "feature_importances = pd.Series(importances, index=encoded_feature_names)\n",
    "\n",
    "# Sort the feature importances in descending order\n",
    "sorted_importances = feature_importances.sort_values(ascending=True)\n",
    "\n",
    "n = 20  # for example, the top 20 features\n",
    "top_sorted_importances = sorted_importances.head(n)\n",
    "\n",
    "\n",
    "# Create a horizontal bar plot\n",
    "plt.figure(figsize=(20,12))  \n",
    "top_sorted_importances.plot(kind='barh')  \n",
    "plt.title('Top Feature Importances', fontsize=16)\n",
    "plt.xlabel('Importance', fontsize=14)\n",
    "plt.ylabel('Features', fontsize=14)\n",
    "plt.show()\n",
    "plt.savefig('feature_importances_2024.png', dpi=300)"
   ]
  },
  {
   "cell_type": "markdown",
   "metadata": {},
   "source": [
    "### Training and cross validating another model XGBoost"
   ]
  },
  {
   "cell_type": "code",
   "execution_count": 19,
   "metadata": {},
   "outputs": [
    {
     "name": "stdout",
     "output_type": "stream",
     "text": [
      "0.5954870186443632\n"
     ]
    }
   ],
   "source": [
    "# Preprocessor applies the transformations\n",
    "# XGBoost model used for classification\n",
    "\n",
    "import xgboost as xgb\n",
    "\n",
    "model = xgb.XGBClassifier()\n",
    "\n",
    "xgb_pipe = Pipeline([\n",
    "    ('ct', preprocessor),\n",
    "    ('xgboost', model)  \n",
    "])\n",
    "\n",
    "# Fit the pipeline  \n",
    "xgb_pipe.fit(X_train, y_train)  \n",
    "\n",
    "# Apply the pipeline to test data\n",
    "y_pred = xgb_pipe.predict(X_test)\n",
    "\n",
    "# Evaluate pipeline performance\n",
    "accuracy = xgb_pipe.score(X_test, y_test)\n",
    "print(accuracy)"
   ]
  },
  {
   "cell_type": "markdown",
   "metadata": {},
   "source": [
    "#### Run a GridSearchCV on XGBoost the pipeline"
   ]
  },
  {
   "cell_type": "markdown",
   "metadata": {},
   "source": [
    "Scoring metric used here is ROC AUC"
   ]
  },
  {
   "cell_type": "code",
   "execution_count": 29,
   "metadata": {},
   "outputs": [
    {
     "name": "stdout",
     "output_type": "stream",
     "text": [
      "Fitting 5 folds for each of 81 candidates, totalling 405 fits\n"
     ]
    },
    {
     "name": "stderr",
     "output_type": "stream",
     "text": [
      "[Parallel(n_jobs=-1)]: Using backend LokyBackend with 24 concurrent workers.\n",
      "[Parallel(n_jobs=-1)]: Done  50 tasks      | elapsed:  3.1min\n",
      "[Parallel(n_jobs=-1)]: Done 173 tasks      | elapsed: 11.4min\n",
      "[Parallel(n_jobs=-1)]: Done 344 tasks      | elapsed: 28.2min\n",
      "[Parallel(n_jobs=-1)]: Done 405 out of 405 | elapsed: 35.2min finished\n"
     ]
    },
    {
     "data": {
      "text/plain": [
       "GridSearchCV(cv=5,\n",
       "             estimator=Pipeline(steps=[('ct',\n",
       "                                        ColumnTransformer(remainder='passthrough',\n",
       "                                                          transformers=[('cat',\n",
       "                                                                         OneHotEncoder(drop='first',\n",
       "                                                                                       sparse=False),\n",
       "                                                                         [0, 1,\n",
       "                                                                          2, 3,\n",
       "                                                                          4, 5,\n",
       "                                                                          6, 7,\n",
       "                                                                          8])])),\n",
       "                                       ('xgboost',\n",
       "                                        XGBClassifier(base_score=0.5,\n",
       "                                                      booster='gbtree',\n",
       "                                                      colsample_bylevel=1,\n",
       "                                                      colsample_bynode=1,\n",
       "                                                      colsample_bytree=1,\n",
       "                                                      gamma=0, gpu_id=-1,\n",
       "                                                      importance_type='gain',\n",
       "                                                      interaction_cons...\n",
       "                                                      scale_pos_weight=1,\n",
       "                                                      subsample=1,\n",
       "                                                      tree_method='exact',\n",
       "                                                      validate_parameters=1,\n",
       "                                                      verbosity=None))]),\n",
       "             n_jobs=-1,\n",
       "             param_grid={'xgboost__colsample_bytree': [0.3, 0.5, 0.7],\n",
       "                         'xgboost__gamma': [0, 0.1, 0.2],\n",
       "                         'xgboost__learning_rate': [0.1],\n",
       "                         'xgboost__max_depth': [3, 5, 7],\n",
       "                         'xgboost__min_child_weight': [1, 3, 5],\n",
       "                         'xgboost__n_estimators': [500],\n",
       "                         'xgboost__subsample': [0.7]},\n",
       "             scoring='roc_auc', verbose=4)"
      ]
     },
     "execution_count": 29,
     "metadata": {},
     "output_type": "execute_result"
    }
   ],
   "source": [
    "params = {\n",
    "    'xgboost__colsample_bytree': [0.3, 0.5, 0.7],\n",
    "    'xgboost__max_depth': [3, 5, 7],\n",
    "    'xgboost__min_child_weight': [1, 3, 5],\n",
    "    'xgboost__gamma': [0, 0.1, 0.2],\n",
    "    'xgboost__subsample': [0.7],\n",
    "    'xgboost__learning_rate': [0.1],\n",
    "    'xgboost__n_estimators': [500],\n",
    "\n",
    "}\n",
    "\n",
    "xgb_grid = GridSearchCV(xgb_pipe, params, scoring='roc_auc', cv=5, n_jobs=-1, verbose=4)  \n",
    "\n",
    "xgb_grid.fit(X_train, y_train)"
   ]
  },
  {
   "cell_type": "code",
   "execution_count": 24,
   "metadata": {},
   "outputs": [
    {
     "name": "stdout",
     "output_type": "stream",
     "text": [
      "Best Parameters: {'xgboost__colsample_bytree': 0.3, 'xgboost__gamma': 0, 'xgboost__learning_rate': 0.1, 'xgboost__max_depth': 5, 'xgboost__min_child_weight': 5, 'xgboost__n_estimators': 500, 'xgboost__subsample': 0.7}\n",
      "Best Score: 0.6442422174018305\n"
     ]
    }
   ],
   "source": [
    "print(\"Best Parameters:\", xgb_grid.best_params_)\n",
    "print(\"Best Score:\", xgb_grid.best_score_)"
   ]
  },
  {
   "cell_type": "markdown",
   "metadata": {},
   "source": [
    "Now let's use accuracy as the scoring metric to compare it to our **MLPclassifier**"
   ]
  },
  {
   "cell_type": "code",
   "execution_count": 26,
   "metadata": {},
   "outputs": [
    {
     "name": "stdout",
     "output_type": "stream",
     "text": [
      "Fitting 5 folds for each of 1 candidates, totalling 5 fits\n"
     ]
    },
    {
     "name": "stderr",
     "output_type": "stream",
     "text": [
      "[Parallel(n_jobs=-1)]: Using backend LokyBackend with 24 concurrent workers.\n",
      "[Parallel(n_jobs=-1)]: Done   2 out of   5 | elapsed:  1.1min remaining:  1.6min\n",
      "[Parallel(n_jobs=-1)]: Done   5 out of   5 | elapsed:  1.1min finished\n"
     ]
    },
    {
     "data": {
      "text/plain": [
       "GridSearchCV(cv=5,\n",
       "             estimator=Pipeline(steps=[('ct',\n",
       "                                        ColumnTransformer(remainder='passthrough',\n",
       "                                                          transformers=[('cat',\n",
       "                                                                         OneHotEncoder(drop='first',\n",
       "                                                                                       sparse=False),\n",
       "                                                                         [0, 1,\n",
       "                                                                          2, 3,\n",
       "                                                                          4, 5,\n",
       "                                                                          6, 7,\n",
       "                                                                          8])])),\n",
       "                                       ('xgboost',\n",
       "                                        XGBClassifier(base_score=0.5,\n",
       "                                                      booster='gbtree',\n",
       "                                                      colsample_bylevel=1,\n",
       "                                                      colsample_bynode=1,\n",
       "                                                      colsample_bytree=1,\n",
       "                                                      gamma=0, gpu_id=-1,\n",
       "                                                      importance_type='gain',\n",
       "                                                      interaction_cons...\n",
       "                                                      reg_alpha=0, reg_lambda=1,\n",
       "                                                      scale_pos_weight=1,\n",
       "                                                      subsample=1,\n",
       "                                                      tree_method='exact',\n",
       "                                                      validate_parameters=1,\n",
       "                                                      verbosity=None))]),\n",
       "             n_jobs=-1,\n",
       "             param_grid={'xgboost__colsample_bytree': [0.3],\n",
       "                         'xgboost__gamma': [0], 'xgboost__learning_rate': [0.1],\n",
       "                         'xgboost__max_depth': [7],\n",
       "                         'xgboost__min_child_weight': [5],\n",
       "                         'xgboost__n_estimators': [500],\n",
       "                         'xgboost__subsample': [0.7]},\n",
       "             scoring='accuracy', verbose=4)"
      ]
     },
     "execution_count": 26,
     "metadata": {},
     "output_type": "execute_result"
    }
   ],
   "source": [
    "# Define hyperparameter distro\n",
    "best_params = {\n",
    "    'xgboost__colsample_bytree': [0.3],\n",
    "    'xgboost__max_depth': [7],\n",
    "    'xgboost__min_child_weight': [5],\n",
    "    'xgboost__gamma': [0],\n",
    "    'xgboost__subsample': [0.7],\n",
    "    'xgboost__learning_rate': [0.1],\n",
    "    'xgboost__n_estimators': [500],\n",
    "\n",
    "}\n",
    "# Create object \n",
    "xgb_grid = GridSearchCV(xgb_pipe, best_params, scoring='accuracy', cv=5, n_jobs=-1, verbose=4)  \n",
    "\n",
    "# Fit the model\n",
    "xgb_grid.fit(X_train, y_train)"
   ]
  },
  {
   "cell_type": "code",
   "execution_count": 28,
   "metadata": {},
   "outputs": [
    {
     "name": "stdout",
     "output_type": "stream",
     "text": [
      "Best Score: 0.5981616947807863\n"
     ]
    }
   ],
   "source": [
    "print(\"Best Score:\", xgb_grid.best_score_)"
   ]
  },
  {
   "cell_type": "code",
   "execution_count": 27,
   "metadata": {},
   "outputs": [
    {
     "name": "stdout",
     "output_type": "stream",
     "text": [
      "              precision    recall  f1-score   support\n",
      "\n",
      "          FB       0.62      0.67      0.64     12419\n",
      "          OS       0.57      0.52      0.54     10537\n",
      "\n",
      "    accuracy                           0.60     22956\n",
      "   macro avg       0.60      0.59      0.59     22956\n",
      "weighted avg       0.60      0.60      0.60     22956\n",
      "\n"
     ]
    }
   ],
   "source": [
    "from sklearn.metrics import classification_report\n",
    "\n",
    "best_model = xgb_grid.best_estimator_\n",
    "\n",
    "# Make predictions\n",
    "xgb_preds = best_model.predict(X_test)\n",
    "\n",
    "# Print classification report\n",
    "print(classification_report(y_test, xgb_preds))"
   ]
  },
  {
   "cell_type": "code",
   "execution_count": 32,
   "metadata": {},
   "outputs": [
    {
     "data": {
      "image/png": "[encoded data removed]",
      "text/plain": [
       "<Figure size 432x288 with 2 Axes>"
      ]
     },
     "metadata": {
      "needs_background": "light"
     },
     "output_type": "display_data"
    }
   ],
   "source": [
    "from sklearn.metrics import ConfusionMatrixDisplay, confusion_matrix\n",
    "\n",
    "# Make predictions\n",
    "y_pred_xgb = xgb_grid.predict(X_test)\n",
    "\n",
    "# Generate the confusion matrix\n",
    "cm = confusion_matrix(y_test, y_pred_xgb)\n",
    "\n",
    "# Display the confusion matrix\n",
    "cm_display = ConfusionMatrixDisplay(cm, display_labels=xgb_grid.classes_).plot()"
   ]
  },
  {
   "cell_type": "markdown",
   "metadata": {},
   "source": [
    "### Interpreting Results between MLPClassifier and XGBoost models"
   ]
  },
  {
   "cell_type": "markdown",
   "metadata": {},
   "source": [
    "Our `XGBoost` model has a slightly lower accuracy score but a higher f1-score than our `MLPClassifier`. Models perform similiarly, with tradeoffs between precision and recall for the two classes. The `f1-score` is the harmonic mean of precision and recall. A higher f1-score indicates a better balance between precision and recall. For fastballs XGBoost has a higher f1-score, while for the offspeed, MLPClassifier has a higher f1-score."
   ]
  },
  {
   "cell_type": "markdown",
   "metadata": {},
   "source": [
    "## Conclusions"
   ]
  },
  {
   "cell_type": "markdown",
   "metadata": {},
   "source": [
    "As previously mentioned accuracy is the metric we are evaluating on for this particular classification between **FB** and **OS** pitches. Our `MLPClassifier` will possibly perform better in a real world pitch sequence prediction model if deployed properly. With further tuning and tweaking, XGBoost could possible be another model to use for deployment. Analyzing a pitcher's tendencies and predicting the next pitch is quite a complex task. Further investigation and feature engineering could be explored to optimize these models for deployment in MLB games. "
   ]
  }
 ],
 "metadata": {
  "kernelspec": {
   "display_name": "Python 3",
   "language": "python",
   "name": "python3"
  },
  "language_info": {
   "codemirror_mode": {
    "name": "ipython",
    "version": 3
   },
   "file_extension": ".py",
   "mimetype": "text/x-python",
   "name": "python",
   "nbconvert_exporter": "python",
   "pygments_lexer": "ipython3",
   "version": "3.8.5"
  }
 },
 "nbformat": 4,
 "nbformat_minor": 4
}
